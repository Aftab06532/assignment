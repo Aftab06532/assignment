{
 "cells": [
  {
   "cell_type": "code",
   "execution_count": 6,
   "id": "03c09a15-81e5-4016-8127-463745546785",
   "metadata": {},
   "outputs": [
    {
     "name": "stdout",
     "output_type": "stream",
     "text": [
      "Name : Mountain Bike   Gears : 11\n"
     ]
    }
   ],
   "source": [
    "# Q1. Explain Class and Object with respect to Object-Oriented Programming. Give a suitable example.\n",
    "\n",
    "# Class :-\n",
    "# A class is a blueprint of objects. We can think of the class as a sketch of a house. It contains all the details about the floors,\n",
    "# doors, windows, etc. Based on these descriptions we build the house. House is the object.\n",
    "\n",
    "\n",
    "# Objects :-\n",
    "# An object is called instance of a class. For example, suppose Bike is a class then we can create objects like bike1, bike2, etc from the calss.\n",
    "\n",
    "\n",
    "# Example :-\n",
    "\n",
    "class Bike :\n",
    "    name = \"\"\n",
    "    gear = 0\n",
    "    \n",
    "bike1 = Bike()\n",
    "\n",
    "bike1.gear = 11\n",
    "bike1.name = \"Mountain Bike\"\n",
    "\n",
    "print(\"Name :\", bike1.name, \"  Gears :\",bike1.gear)"
   ]
  },
  {
   "cell_type": "code",
   "execution_count": null,
   "id": "9e55e655-a70a-4de1-9b1f-f787fc8082c7",
   "metadata": {},
   "outputs": [],
   "source": []
  },
  {
   "cell_type": "code",
   "execution_count": 1,
   "id": "4ffc114e-1a1d-482c-826d-75faf03af72f",
   "metadata": {},
   "outputs": [],
   "source": [
    "# Q2. Name the four pillars of OOPs.\n",
    "\n",
    "# 1. Inheritance\n",
    "# Inheritance is the process in which two classes have a relationship with each other, and objects of one class acquire properties and features\n",
    "# of other class.\n",
    "\n",
    "# 2. Polymorphism:-\n",
    "# The world polymorphism means having many forms. It is ability to take more than one forms. It can be implemented using function overloading, operator \n",
    "# overload, function overriding, virtual function.\n",
    "\n",
    "# 3. Encapsulation:-\n",
    "# Encapsulaion means wrapping of data and information under a single unit.\n",
    "\n",
    "# 4. Abstraction  :-\n",
    "# Data abstraction refers to providing only necessary information about the data to the outside world, hiding the background info or implementation.\n"
   ]
  },
  {
   "cell_type": "code",
   "execution_count": null,
   "id": "fb37d3de-bcfa-4a4a-8ccc-f8857a602d77",
   "metadata": {},
   "outputs": [],
   "source": []
  },
  {
   "cell_type": "code",
   "execution_count": 4,
   "id": "f3f93d1c-cffd-43f9-96dc-c50fa311a9c9",
   "metadata": {},
   "outputs": [
    {
     "name": "stdout",
     "output_type": "stream",
     "text": [
      "Hello, my name is  Aftab\n"
     ]
    }
   ],
   "source": [
    "# Q3. Explain why the __init__() function is used. Give a suitable example.\n",
    "\n",
    "# Use  __init__() function to initialize(assign values) to the data members of the class when an object of the class is created.\n",
    "\n",
    "# Example:-\n",
    "\n",
    "class Person :\n",
    "    \n",
    "    def __init__(self,name) :\n",
    "        self.name = name\n",
    "        \n",
    "    def say_hi(self) :\n",
    "        print(\"Hello, my name is \", self.name)\n",
    "        \n",
    "p = Person('Aftab')\n",
    "p.say_hi()"
   ]
  },
  {
   "cell_type": "code",
   "execution_count": null,
   "id": "a0880ccf-7284-48b4-a12c-bbf6a574ac44",
   "metadata": {},
   "outputs": [],
   "source": []
  },
  {
   "cell_type": "code",
   "execution_count": 5,
   "id": "affd1bf4-0118-45e7-bc0a-89625fd58245",
   "metadata": {},
   "outputs": [],
   "source": [
    "# Q4. Why self is used in OOPs?\n",
    "\n",
    "# self represents the instance of the class. By using the \"self\" we can access the attributes and methods of the class in python.\n",
    "# It binds the attributes with the given arguments."
   ]
  },
  {
   "cell_type": "code",
   "execution_count": null,
   "id": "8c870ee0-298c-4a63-a60b-8d81ab1228f6",
   "metadata": {},
   "outputs": [],
   "source": []
  },
  {
   "cell_type": "code",
   "execution_count": null,
   "id": "76a2c739-8e12-4323-9245-d0c6975cf2f5",
   "metadata": {},
   "outputs": [],
   "source": [
    "# Q5. What is inheritance? Give an example for each type of inheritance.\n",
    "\n",
    "# Inheritance is the process in which two classes have a relationship with each other, and objects of one class acquire properties and features\n",
    "# of other class.\n",
    "# Parent class is the class being inherited from, also called base class.\n",
    "# Child class is the class that inherits from another class, also called derived class.\n",
    "\n",
    "# Example :-\n",
    "\n",
    "class Person :\n",
    "    def __init__(self, fname, lname) :\n",
    "        self.firstname = fname\n",
    "        self.lastname = lname\n",
    "        \n",
    "    def printname(self) :\n",
    "        print(self.firstname, self.lastname)\n",
    "        \n",
    "x = Person(\"\")\n",
    "\n"
   ]
  }
 ],
 "metadata": {
  "kernelspec": {
   "display_name": "Python 3 (ipykernel)",
   "language": "python",
   "name": "python3"
  },
  "language_info": {
   "codemirror_mode": {
    "name": "ipython",
    "version": 3
   },
   "file_extension": ".py",
   "mimetype": "text/x-python",
   "name": "python",
   "nbconvert_exporter": "python",
   "pygments_lexer": "ipython3",
   "version": "3.10.8"
  }
 },
 "nbformat": 4,
 "nbformat_minor": 5
}
