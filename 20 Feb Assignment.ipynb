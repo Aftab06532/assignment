{
 "cells": [
  {
   "cell_type": "code",
   "execution_count": null,
   "id": "09c5ccaf-a072-4e3b-a97f-59fbd22fdc2e",
   "metadata": {},
   "outputs": [],
   "source": [
    "Q1. Explain GET and POST methods.\n",
    "Answer :-\n",
    "\n",
    "GET Method :-\n",
    "GET is used to request data from a specified resource.\n",
    "\n",
    "Note that the query string (name/value pairs) is sent in the URL of a GET request:\n",
    "/test/demo_form.php?name1=value1&name2=value2\n",
    "\n",
    "Some notes on GET requests:\n",
    "* GET requests can be cached\n",
    "* GET requests remain in the browser history\n",
    "* GET requests can be bookmarked\n",
    "* GET requests should never be used when dealing with sensitive data\n",
    "* GET requests have length restrictions\n",
    "* GET requests have length restrictions\n",
    "\n",
    "POST Method :-\n",
    "POST is used to send data to a server to create/update a resource.\n",
    "\n",
    "The data sent to the server with POST is stored in the request body of the HTTP request:\n",
    "POST /test/demo_form.php HTTP/1.1\n",
    "Host: xyz.com\n",
    "\n",
    "name1=value1&name2=value2\n",
    "\n",
    "Some notes on POST requests:\n",
    "* POST requests are never cached\n",
    "* POST requests do not remain in the browser history\n",
    "* POST requests cannot be bookmarked\n",
    "* POST requests have no restrictions on data length"
   ]
  },
  {
   "cell_type": "code",
   "execution_count": null,
   "id": "3141b304-89d4-44a3-9c4a-3e5774e0f595",
   "metadata": {},
   "outputs": [],
   "source": []
  },
  {
   "cell_type": "code",
   "execution_count": null,
   "id": "4b90fd1a-e910-415c-a4cd-4be22937c725",
   "metadata": {},
   "outputs": [],
   "source": [
    "Q2. Why is request used in Flask?\n",
    "Answer :-\n",
    "The Request, in Flask, is an object that contains all the data sent from the Client to Server.\n",
    "This data can be recovered using the GET/POST Methods."
   ]
  },
  {
   "cell_type": "code",
   "execution_count": null,
   "id": "6b7f2aa6-185e-4458-b59d-4b2a88fb6a60",
   "metadata": {},
   "outputs": [],
   "source": []
  },
  {
   "cell_type": "code",
   "execution_count": null,
   "id": "e43612a0-a336-4818-be8f-c6f68c9ec197",
   "metadata": {},
   "outputs": [],
   "source": [
    "Q3. Why is redirect() used in Flask?\n",
    "Answer :-\n",
    "redirect() is used to returns a response object and redirects the user to another\n",
    "target location with specified status code.\n",
    "\n",
    "Prototype of redirect() function is as below −\n",
    "Flask.redirect(location, statuscode, response)\n",
    "\n",
    "In the above function −\n",
    "* location parameter is the URL where response should be redirected.\n",
    "* statuscode sent to browser’s header, defaults to 302.\n",
    "* response parameter is used to instantiate response."
   ]
  },
  {
   "cell_type": "code",
   "execution_count": null,
   "id": "f06d48f1-3a9c-4009-9736-40e21816556a",
   "metadata": {},
   "outputs": [],
   "source": []
  },
  {
   "cell_type": "code",
   "execution_count": null,
   "id": "6bdbe9dc-f327-4af1-8ab3-29e1303ff72b",
   "metadata": {},
   "outputs": [],
   "source": [
    "Q4. What are templates in Flask? Why is the render_template() function used?\n",
    "Answer :-\n",
    "\n",
    "Flask :-\n",
    "Templates are files that contain static data as well as placeholders for dynamic data\n",
    "\n",
    "render_template is used to generate output from a template file based on the Jinja2 \n",
    "engine that is found in the application's templates folder."
   ]
  },
  {
   "cell_type": "code",
   "execution_count": null,
   "id": "3ccc4d1f-f95f-471d-8203-426c439d4dd0",
   "metadata": {},
   "outputs": [],
   "source": []
  },
  {
   "cell_type": "code",
   "execution_count": null,
   "id": "565568b7-1612-4cf8-9009-11539f452672",
   "metadata": {},
   "outputs": [],
   "source": [
    "Q5. Create a simple API. Use Postman to test it. Attach the screenshot of the output in the Jupyter Notebook.\n",
    "\n",
    "Program :-\n",
    "from flask import Flask, render_template, request,jsonify\n",
    "\n",
    "app = Flask(__name__)\n",
    "\n",
    "@app.route('/',methods = ['GET', 'POST'])\n",
    "def home_page() :\n",
    "    return render_template('index.html')\n",
    "\n",
    "@app.route('/postman_data',methods = ['POST'])\n",
    "def mat_operation1():\n",
    "    if(request.method == 'POST'):\n",
    "        ops = request.json['operation']\n",
    "        num1 = int(request.json['num1'])\n",
    "        num2 = int(request.json['num2'])\n",
    "        if(ops == 'add') :\n",
    "            r = num1 + num2\n",
    "            result = 'The sum of ' + str(num1) + ' and ' +str(num2) + ' is ' +str(r)\n",
    "        \n",
    "        if(ops == 'subtract') :\n",
    "            r = num1 - num2\n",
    "            result = 'The subtraction of ' + str(num1) + ' and ' +str(num2) + ' is ' +str(r)\n",
    "        \n",
    "        if(ops == 'multiply') :\n",
    "            r = num1 * num2\n",
    "            result = 'The multiplication of ' + str(num1) + ' and ' +str(num2) + ' is ' +str(r)\n",
    "\n",
    "        if(ops == 'divide') :\n",
    "            r = num1 / num2\n",
    "            result = 'The division of ' + str(num1) + ' and ' +str(num2) + ' is ' +str(r)\n",
    "        \n",
    "        if(ops == 'log') :\n",
    "            r = num1 + num2\n",
    "            result = 'The sum of ' + str(num1) + ' and ' +str(num2) + ' is ' +str(r)\n",
    "\n",
    "        return jsonify(result)\n",
    "if __name__==\"__main__\":\n",
    "    app.run(host=\"0.0.0.0\")\n"
   ]
  },
  {
   "cell_type": "code",
   "execution_count": 1,
   "id": "0f5c017b-93b2-435b-abdd-6e555e068127",
   "metadata": {},
   "outputs": [
    {
     "data": {
      "text/html": [
       "<img src=\"output.PNG\" width=\"300\" height=\"300\"/>"
      ],
      "text/plain": [
       "<IPython.core.display.Image object>"
      ]
     },
     "execution_count": 1,
     "metadata": {},
     "output_type": "execute_result"
    }
   ],
   "source": [
    "from IPython.display import Image\n",
    "Image(url=\"output.PNG\", width=300, height=300)"
   ]
  },
  {
   "cell_type": "code",
   "execution_count": null,
   "id": "fd307763-d87f-46a5-a9e7-060122d8531a",
   "metadata": {},
   "outputs": [],
   "source": []
  }
 ],
 "metadata": {
  "kernelspec": {
   "display_name": "Python 3 (ipykernel)",
   "language": "python",
   "name": "python3"
  },
  "language_info": {
   "codemirror_mode": {
    "name": "ipython",
    "version": 3
   },
   "file_extension": ".py",
   "mimetype": "text/x-python",
   "name": "python",
   "nbconvert_exporter": "python",
   "pygments_lexer": "ipython3",
   "version": "3.10.8"
  }
 },
 "nbformat": 4,
 "nbformat_minor": 5
}
