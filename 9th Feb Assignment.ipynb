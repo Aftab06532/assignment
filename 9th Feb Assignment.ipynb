{
 "cells": [
  {
   "cell_type": "code",
   "execution_count": 10,
   "id": "090c5b5b-971e-4caa-8415-41f0054a8e87",
   "metadata": {},
   "outputs": [
    {
     "name": "stdout",
     "output_type": "stream",
     "text": [
      "Suzuki\n",
      "120\n",
      "25\n"
     ]
    }
   ],
   "source": [
    "# Q1. Create a vehicle class with an init method having instance variables as name_of_vehicle, max_speed \n",
    "# and average_of_vehicle.\n",
    "\n",
    "class vehicle :\n",
    "    def __init__(self, name_of_vehicle, max_speed, average_of_vehicle) :\n",
    "        self.name_of_vehicle = name_of_vehicle\n",
    "        self.max_speed = max_speed\n",
    "        self.average_of_vehicle = average_of_vehicle\n",
    "        \n",
    "    def vehicle_name(self) :\n",
    "        print(self.name_of_vehicle)\n",
    "        \n",
    "    def maximum_speed(self):\n",
    "        print(self.max_speed)\n",
    "        \n",
    "    def vehicle_average(self) :\n",
    "        print(self.average_of_vehicle)\n",
    "        \n",
    "v = vehicle(\"Suzuki\", 120, 25)\n",
    "v.vehicle_name()\n",
    "v.maximum_speed()\n",
    "v.vehicle_average()\n",
    "\n",
    "        "
   ]
  },
  {
   "cell_type": "code",
   "execution_count": null,
   "id": "46694444-c088-4db5-b924-83749394877c",
   "metadata": {},
   "outputs": [],
   "source": []
  },
  {
   "cell_type": "code",
   "execution_count": 8,
   "id": "670d28c4-97fb-464d-9f7c-a14223cbfd8e",
   "metadata": {},
   "outputs": [
    {
     "name": "stdout",
     "output_type": "stream",
     "text": [
      "Tata car has a seating capacity of 7 passengers\n"
     ]
    }
   ],
   "source": [
    "# Q2. Create a child class car from the vehicle class created in Que 1, which will inherit the vehicle class.\n",
    "# Create a method named seating_capacity which takes capacity as an argument and returns the name of\n",
    "# the vehicle and its seating capacity.\n",
    "\n",
    "class car(vehicle) :\n",
    "    def seating_capacity(self, capacity) :\n",
    "        return f\"{self.name_of_vehicle} car has a seating capacity of {capacity} passengers\"\n",
    "    \n",
    "my_car = car(\"Tata\", 180, 30)\n",
    "print(my_car.seating_capacity(7))\n",
    "        \n",
    "\n"
   ]
  },
  {
   "cell_type": "code",
   "execution_count": null,
   "id": "1dc6190e-5250-499a-b941-29f2ead200bd",
   "metadata": {},
   "outputs": [],
   "source": []
  },
  {
   "cell_type": "code",
   "execution_count": 13,
   "id": "5ec4aa7d-9098-4190-823e-e5d0f478c545",
   "metadata": {},
   "outputs": [
    {
     "name": "stdout",
     "output_type": "stream",
     "text": [
      "Dad singing well\n",
      "Mom codes well\n",
      "Kid loves to play\n"
     ]
    }
   ],
   "source": [
    "# Q3. What is multiple inheritance? Write a python code to demonstrate multiple inheritance.\n",
    "\n",
    "# If a child class inherits from more than one class, i.e. this child class is derived from multiple classes, \n",
    "# we call it multiple inheritance. \n",
    "\n",
    "# syntax :\n",
    "\"\"\"\n",
    "class BaseClass1 :\n",
    "    Body of base class 1 (Parent class 1)\n",
    "        \n",
    "class BaseClass2 :\n",
    "    Body of base class 2 (Parent class 2)\n",
    "    \n",
    "class DerivedClass(Baseclass1, BaseClass2) :\n",
    "    Body of derived class (child class)\n",
    "    Inherited properties of baseclass1 and baseclass2      \n",
    "\"\"\"\n",
    "\n",
    "#Example\n",
    "\n",
    "class Dad :\n",
    "    def singing(self) :\n",
    "        print(\"Dad singing well\")\n",
    "        \n",
    "class Mom :\n",
    "    def coding(self) :\n",
    "        print(\"Mom codes well\")\n",
    "        \n",
    "class Child(Dad, Mom) :\n",
    "    def play(self) :\n",
    "        print(\"Kid loves to play\")\n",
    "        \n",
    "child = Child()\n",
    "child.singing()\n",
    "child.coding()\n",
    "child.play()\n"
   ]
  },
  {
   "cell_type": "code",
   "execution_count": null,
   "id": "47db3614-680d-4dda-b03f-3db8a798a00d",
   "metadata": {},
   "outputs": [],
   "source": []
  },
  {
   "cell_type": "code",
   "execution_count": 16,
   "id": "9138e2e1-eae3-49a3-9f95-54503e0af838",
   "metadata": {},
   "outputs": [
    {
     "name": "stdout",
     "output_type": "stream",
     "text": [
      "25\n",
      "25\n"
     ]
    }
   ],
   "source": [
    "\"\"\"\n",
    "Q4. What are getter and setter in python? Create a class and create a getter and a setter method in this\n",
    "class.\n",
    "\n",
    "Getter :-\n",
    "Getter are the methods that are used in Object - Oriented Programming (OOPS) to access a class's private attributes.\n",
    "\n",
    "Setter :-\n",
    "The setter ia a method that is used to set the property's value. It is very useful in object - oriented programming\n",
    "to set the value of private attributes in a class. \n",
    "\"\"\"\n",
    "\n",
    "class Person :\n",
    "    def __init__(self, age = 0) :\n",
    "        self._age = age\n",
    "        \n",
    "    def get_age(self) :\n",
    "        return self._age\n",
    "    \n",
    "    def set_age(self,a) :\n",
    "        self._age = a\n",
    "        \n",
    "Aftab = Person()\n",
    "\n",
    "Aftab.set_age(25)\n",
    "\n",
    "print(Aftab.get_age())\n",
    "print(Aftab._age)"
   ]
  },
  {
   "cell_type": "code",
   "execution_count": null,
   "id": "2e9112f9-ead4-4153-9805-c9dba515c40d",
   "metadata": {},
   "outputs": [],
   "source": []
  },
  {
   "cell_type": "code",
   "execution_count": 26,
   "id": "1926cd11-bd1d-4a53-8e24-92c059567866",
   "metadata": {},
   "outputs": [
    {
     "name": "stdout",
     "output_type": "stream",
     "text": [
      "I have 4 sides. I am from Square class\n",
      "I am a 2D object. I am from shape class\n",
      "I have teal color. I am from Square Class.\n"
     ]
    }
   ],
   "source": [
    "\"\"\"\n",
    "Q5.What is method overriding in python? Write a python code to demonstrate method overriding.\n",
    "\n",
    "Method overriding in Python is an OOPS concept closely related to inheritance. When a child class method\n",
    "overrides (or, provides it's own implementation) the parent class method of the same name, parameters and return type, \n",
    "it is known as method overriding.\n",
    "\n",
    "The child class method is called the overriding method and the parent class method is the overridden method.\n",
    "\"\"\"\n",
    "\n",
    "# Example :-\n",
    "\n",
    "class Shape :\n",
    "    data1 = \"abc\"\n",
    "    \n",
    "    def no_of_sides(self) :\n",
    "        print(\"My side need to be defined. I am frome shape class.\")\n",
    "        \n",
    "    def two_dimensional(self) :\n",
    "        print(\"I am a 2D object. I am from shape class\")\n",
    "        \n",
    "class Square(Shape) : \n",
    "    data2 = \"xyz\"\n",
    "    \n",
    "    def no_of_sides(self):\n",
    "        print(\"I have 4 sides. I am from Square class\")\n",
    "        \n",
    "    def color(self) :\n",
    "        print(\"I have teal color. I am from Square Class.\")\n",
    "        \n",
    "sq = Square()\n",
    "sq.no_of_sides()\n",
    "sq.two_dimensional()\n",
    "sq.color()"
   ]
  },
  {
   "cell_type": "code",
   "execution_count": null,
   "id": "483ccf03-5341-4b6a-bb79-87707141d05f",
   "metadata": {},
   "outputs": [],
   "source": []
  }
 ],
 "metadata": {
  "kernelspec": {
   "display_name": "Python 3 (ipykernel)",
   "language": "python",
   "name": "python3"
  },
  "language_info": {
   "codemirror_mode": {
    "name": "ipython",
    "version": 3
   },
   "file_extension": ".py",
   "mimetype": "text/x-python",
   "name": "python",
   "nbconvert_exporter": "python",
   "pygments_lexer": "ipython3",
   "version": "3.10.8"
  }
 },
 "nbformat": 4,
 "nbformat_minor": 5
}
