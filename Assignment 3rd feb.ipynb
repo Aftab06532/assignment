{
 "cells": [
  {
   "cell_type": "code",
   "execution_count": 19,
   "id": "58b73cb9-2adf-481c-9ba4-b40570576165",
   "metadata": {},
   "outputs": [
    {
     "name": "stdout",
     "output_type": "stream",
     "text": [
      "List of odd numbers in the range of 1 to 25\n",
      "[1, 3, 5, 7, 9, 11, 13, 15, 17, 19, 21, 23, 25]\n"
     ]
    }
   ],
   "source": [
    "# Q1. Which keyword is used to create a function? Create a function to return a list of odd numbers in the\n",
    "# range of 1 to 25.\n",
    "\n",
    "# def keyword is to create a function.\n",
    "\n",
    "l = list(range(1,26))\n",
    "l1 = []\n",
    "for i in l :\n",
    "    if i % 2 != 0 :\n",
    "        l1.append(i)\n",
    "print(\"List of odd numbers in the range of 1 to 25\")\n",
    "print(l1)"
   ]
  },
  {
   "cell_type": "code",
   "execution_count": 20,
   "id": "46f6de20-2333-409d-849c-cbb6f080c5df",
   "metadata": {},
   "outputs": [
    {
     "data": {
      "text/plain": [
       "(65, 85, 75, 65, 98, 25, 36, 75, 96)"
      ]
     },
     "execution_count": 20,
     "metadata": {},
     "output_type": "execute_result"
    }
   ],
   "source": [
    "# Q2. Why *args and **kwargs is used in some functions? Create a function each for *args and **kwargs\n",
    "# to demonstrate their use.\n",
    "\n",
    "# *args is used in some functions because *args allows us to pass a variable number of non-keyword arguments to a function.\n",
    "\n",
    "def marks(*args) :\n",
    "    return args\n",
    "marks(65,85,75,65,98,25,36,75,96)\n"
   ]
  },
  {
   "cell_type": "code",
   "execution_count": 31,
   "id": "6b6e3b72-b241-4993-9640-e56147c134ae",
   "metadata": {},
   "outputs": [
    {
     "data": {
      "text/plain": [
       "{'Roll_No1': 56,\n",
       " 'Roll_No2': 98,\n",
       " 'Roll_No3': 65,\n",
       " 'Roll_No4': 94,\n",
       " 'Roll_No5': 92}"
      ]
     },
     "execution_count": 31,
     "metadata": {},
     "output_type": "execute_result"
    }
   ],
   "source": [
    "# **kwargs is used in some functions because **kwargs allows us to pass a variable number of keyword arguments to a function.\n",
    "\n",
    "def marks1(**kwargs) :\n",
    "    return kwargs\n",
    "marks1(Roll_No1 = 56, Roll_No2 = 98, Roll_No3 = 65, Roll_No4 = 94, Roll_No5 = 92)"
   ]
  },
  {
   "cell_type": "code",
   "execution_count": 36,
   "id": "463784b2-ac37-4922-aff9-e74568ccb4a2",
   "metadata": {},
   "outputs": [
    {
     "name": "stdout",
     "output_type": "stream",
     "text": [
      "2\n",
      "4\n",
      "6\n",
      "8\n",
      "10\n"
     ]
    }
   ],
   "source": [
    "#Q3. What is an iterator in python? Name the method used to initialise the iterator object and the method\n",
    "#used for iteration. Use these methods to print the first five elements of the given list [2, 4, 6, 8, 10, 12, 14,\n",
    "#16, 18, 20].\n",
    "\n",
    "# An iterator is an object that contains a countable number of values.\n",
    "#  in Python, an iterator is an object which implements the iterator protocol, which consist of the methods __iter__() and __next__().\n",
    "\n",
    "l = [2, 4, 6, 8, 10, 12, 14, 16, 18, 20]\n",
    "l1 = iter(l)\n",
    "print(next(l1))\n",
    "print(next(l1))\n",
    "print(next(l1))\n",
    "print(next(l1))\n",
    "print(next(l1))"
   ]
  },
  {
   "cell_type": "code",
   "execution_count": 45,
   "id": "e519c062-792e-4cde-b008-2794d45a8e12",
   "metadata": {},
   "outputs": [
    {
     "name": "stdout",
     "output_type": "stream",
     "text": [
      "[2, 4, 6, 8, 10]\n"
     ]
    }
   ],
   "source": [
    "# We can also use a for loop to iterate\n",
    "\n",
    "l = [2, 4, 6, 8, 10, 12, 14, 16, 18, 20]\n",
    "l2 = []\n",
    "for i in range(0,5) :\n",
    "    l2.append(l[i])\n",
    "print(l2)"
   ]
  },
  {
   "cell_type": "code",
   "execution_count": null,
   "id": "3e1734ae-5a78-4cb2-bf4c-3dd9c6350a80",
   "metadata": {},
   "outputs": [],
   "source": []
  },
  {
   "cell_type": "code",
   "execution_count": 9,
   "id": "e135dfc3-0c4a-44be-9892-1e0347d0a1ef",
   "metadata": {},
   "outputs": [
    {
     "name": "stdout",
     "output_type": "stream",
     "text": [
      "The original list is : [5, 6, 8, 2, 1, 5, 9, 8, 7, 5, 3, 7, 5]\n",
      "The even number in the list are :  6 8 2 8 "
     ]
    }
   ],
   "source": [
    "# Q4. What is a generator function in python? Why yield keyword is used? Give an example of a generator function.\n",
    "\n",
    "# A generator is a function that returns an iterator that produces a sequence of values when iterated over.\n",
    "# Generators are useful when we want to produce a large sequence of values, but we don't want to store all of them in memory at once.\n",
    "# yield keyword is used to create a generator function.\n",
    "\n",
    "# Example of generator function :\n",
    "\n",
    "def print_even(test_list) :\n",
    "    for i in test_list :\n",
    "        if i % 2 == 0 :\n",
    "            yield i\n",
    "test_list = [5,6,8,2,1,5,9,8,7,5,3,7,5]\n",
    "\n",
    "print(\"The original list is : \" + str(test_list))\n",
    "\n",
    "print(\"The even number in the list are : \", end=\" \")\n",
    "for j in print_even(test_list):\n",
    "    print(j, end=\" \")"
   ]
  },
  {
   "cell_type": "code",
   "execution_count": null,
   "id": "3a55db60-f2de-4ae5-bdcc-434dfb6e7b3b",
   "metadata": {},
   "outputs": [],
   "source": []
  },
  {
   "cell_type": "code",
   "execution_count": 2,
   "id": "9a093828-0262-4948-8a30-a52246016a92",
   "metadata": {},
   "outputs": [
    {
     "name": "stdout",
     "output_type": "stream",
     "text": [
      "2 3 5 7 11 13 17 19 23 29 31 37 41 43 47 53 59 61 67 71 "
     ]
    }
   ],
   "source": [
    "# Q5. Create a generator function for prime numbers less than 1000. Use the next() method to print the first 20 prime numbers.\n",
    "\n",
    "def generate_primes():\n",
    "    for num in range(2, 1000):\n",
    "        is_prime = True\n",
    "        for i in range(2, num):\n",
    "            if num % i == 0:\n",
    "                is_prime = False\n",
    "                break\n",
    "        if is_prime:\n",
    "            yield num\n",
    "primes = generate_primes()\n",
    "for i in range(20):\n",
    "    print(next(primes),end=\" \")\n"
   ]
  },
  {
   "cell_type": "code",
   "execution_count": null,
   "id": "8e1f69f3-7cc6-445e-a15b-b0d030dd6aed",
   "metadata": {},
   "outputs": [],
   "source": []
  },
  {
   "cell_type": "code",
   "execution_count": null,
   "id": "87bc1e49-fe1c-49d8-a720-163f7c596289",
   "metadata": {},
   "outputs": [],
   "source": []
  },
  {
   "cell_type": "code",
   "execution_count": 1,
   "id": "33c5ba67-c1e6-465a-9e00-a7619d6d1f1a",
   "metadata": {},
   "outputs": [
    {
     "name": "stdout",
     "output_type": "stream",
     "text": [
      "0 1 1 2 3 5 8 13 21 34 "
     ]
    }
   ],
   "source": [
    "# Q6. Write a python program to print the first 10 Fibonacci numbers using a while loop.\n",
    "\n",
    "a , b = 0 , 1\n",
    "\n",
    "counter = 0\n",
    "while counter < 10:\n",
    "    print(a,end=\" \")\n",
    "    c = a + b\n",
    "    a = b\n",
    "    b = c\n",
    "    counter = counter+1"
   ]
  },
  {
   "cell_type": "code",
   "execution_count": null,
   "id": "47ee7792-3955-45e7-ad85-ca51697c05c6",
   "metadata": {},
   "outputs": [],
   "source": []
  },
  {
   "cell_type": "code",
   "execution_count": 3,
   "id": "653fbd22-bcb8-4cdb-b882-56347025b89e",
   "metadata": {},
   "outputs": [
    {
     "data": {
      "text/plain": [
       "['p', 'w', 's', 'k', 'i', 'l', 'l', 's']"
      ]
     },
     "execution_count": 3,
     "metadata": {},
     "output_type": "execute_result"
    }
   ],
   "source": [
    "# Q7. Write a List Comprehension to iterate through the given string: ‘pwskills’.\n",
    "# Expected output: ['p', 'w', 's', 'k', 'i', 'l', 'l', 's']\n",
    "\n",
    "s = 'pwskills'\n",
    "list(map(lambda x : x , s))"
   ]
  },
  {
   "cell_type": "code",
   "execution_count": null,
   "id": "9ecf06bc-37f9-4da4-ac05-83b187855c7b",
   "metadata": {},
   "outputs": [],
   "source": []
  },
  {
   "cell_type": "code",
   "execution_count": 6,
   "id": "ea442292-bbc6-449e-8650-f1a296a4e76b",
   "metadata": {},
   "outputs": [
    {
     "name": "stdin",
     "output_type": "stream",
     "text": [
      "Enter any number 121\n"
     ]
    },
    {
     "name": "stdout",
     "output_type": "stream",
     "text": [
      "palindrome number\n"
     ]
    }
   ],
   "source": [
    "# Q8. Write a python program to check whether a given number is Palindrome or not using a while loop.\n",
    "\n",
    "n = int(input(\"Enter any number\"))\n",
    "temp = n\n",
    "rev = 0\n",
    "while n > 0 :\n",
    "    dig = n % 10\n",
    "    rev = rev * 10 + dig\n",
    "    n = n//10\n",
    "if(temp==rev) :\n",
    "    print(\"palindrome number\")\n",
    "else :\n",
    "    print(\"Not palindrome number\")"
   ]
  },
  {
   "cell_type": "code",
   "execution_count": null,
   "id": "d567ca09-8222-4b9b-927b-60cfc265b53a",
   "metadata": {},
   "outputs": [],
   "source": []
  },
  {
   "cell_type": "code",
   "execution_count": 15,
   "id": "22b7ab0d-7e99-45b4-b50b-e0902c8baf45",
   "metadata": {},
   "outputs": [
    {
     "data": {
      "text/plain": [
       "[1,\n",
       " 3,\n",
       " 5,\n",
       " 7,\n",
       " 9,\n",
       " 11,\n",
       " 13,\n",
       " 15,\n",
       " 17,\n",
       " 19,\n",
       " 21,\n",
       " 23,\n",
       " 25,\n",
       " 27,\n",
       " 29,\n",
       " 31,\n",
       " 33,\n",
       " 35,\n",
       " 37,\n",
       " 39,\n",
       " 41,\n",
       " 43,\n",
       " 45,\n",
       " 47,\n",
       " 49,\n",
       " 51,\n",
       " 53,\n",
       " 55,\n",
       " 57,\n",
       " 59,\n",
       " 61,\n",
       " 63,\n",
       " 65,\n",
       " 67,\n",
       " 69,\n",
       " 71,\n",
       " 73,\n",
       " 75,\n",
       " 77,\n",
       " 79,\n",
       " 81,\n",
       " 83,\n",
       " 85,\n",
       " 87,\n",
       " 89,\n",
       " 91,\n",
       " 93,\n",
       " 95,\n",
       " 97,\n",
       " 99]"
      ]
     },
     "execution_count": 15,
     "metadata": {},
     "output_type": "execute_result"
    }
   ],
   "source": [
    "# Q9. Write a code to print odd numbers from 1 to 100 using list comprehension.\n",
    "# Note: Use a list comprehension to create a list from 1 to 100 and use another List comprehension to filter\n",
    "# out odd numbers.\n",
    "\n",
    "l = list(range(1,101))\n",
    "[i for i in l if i%2!=0]"
   ]
  },
  {
   "cell_type": "code",
   "execution_count": null,
   "id": "71226cd1-b976-41a5-976c-3ffa70601472",
   "metadata": {},
   "outputs": [],
   "source": []
  },
  {
   "cell_type": "code",
   "execution_count": null,
   "id": "b82880cf-499b-418d-bf46-47e50d3d83cb",
   "metadata": {},
   "outputs": [],
   "source": []
  }
 ],
 "metadata": {
  "kernelspec": {
   "display_name": "Python 3 (ipykernel)",
   "language": "python",
   "name": "python3"
  },
  "language_info": {
   "codemirror_mode": {
    "name": "ipython",
    "version": 3
   },
   "file_extension": ".py",
   "mimetype": "text/x-python",
   "name": "python",
   "nbconvert_exporter": "python",
   "pygments_lexer": "ipython3",
   "version": "3.10.8"
  }
 },
 "nbformat": 4,
 "nbformat_minor": 5
}
