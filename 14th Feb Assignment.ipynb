{
 "cells": [
  {
   "cell_type": "code",
   "execution_count": null,
   "id": "0076d462-59e6-4696-93e8-4bd112d8393d",
   "metadata": {},
   "outputs": [],
   "source": [
    "Q1.What is multithreading in python? Why is it used? Name the module used to handle threads in python.\n",
    "\n",
    "Multiplethreadng is a threading technique in Python programming to run multiple threads concurrently by rapidly switching\n",
    "between threads with a CPU help (called context switching).\n",
    "\n",
    "Multithreading is used because:\n",
    "1. Better Resource Utilization: Multithreading helps to better utilize the CPU by running multiple threads in parallel.\n",
    "This improves the performance and makes the program more efficient.\n",
    "\n",
    "2. Faster Execution: Multithreading allows different sections of code to execute simultaneously, \n",
    "thus reducing the overall execution time and improving response time.\n",
    "\n",
    "3. User Interface Responsiveness: Multithreading ensures that the user interface remains responsive \n",
    "even when the main thread is busy with some time-consuming tasks.\n",
    "\n",
    "4. Concurrent Processing: Multithreading allows multiple processes to run simultaneously. \n",
    "This is especially useful in applications that need to perform multiple tasks concurrently.\n",
    "\n",
    "5. Simplifies complex operations: Multithreading simplifies the complex operations in programming by breaking \n",
    "them into smaller and more manageable tasks.\n",
    "\n",
    "6. Better Scalability: Multithreading provides better scalability by allowing multiple threads to run on multiple CPUs.\n",
    "This allows programs to scale to support large numbers of users or processes.\n",
    "\n",
    "7. Better fault tolerance: Multithreading can help to isolate errors within a single thread. \n",
    "This way, a crash in one thread will not bring the entire program down.\n",
    "\n",
    "The module used to handle threads in python is called \"threading\""
   ]
  },
  {
   "cell_type": "code",
   "execution_count": null,
   "id": "da9d3f42-b87a-46ec-87df-ece20505d58a",
   "metadata": {},
   "outputs": [],
   "source": []
  },
  {
   "cell_type": "code",
   "execution_count": null,
   "id": "4d518da0-90b8-45ad-88fe-c2f05275b68c",
   "metadata": {},
   "outputs": [],
   "source": [
    "Q2. Why threading module used? rite the use of the following functions\n",
    "    1. activeCount()\n",
    "    2. currentThread()\n",
    "    3. enumerate()\n",
    "Answer :-\n",
    "Threading module is used for creating, controlling and managing threads in python. \n",
    "\n",
    "1. activeCount() :-\n",
    "   The method threading.active_count() from the threading module is used to count the currently active or running threads.\n",
    "    \n",
    "2. currentThread() :-\n",
    "   The threading.current_thread() is an inbuilt method of the threading module, it is used to return the current Thread object,\n",
    "   which corresponds to the caller's thread of control.\n",
    "    \n",
    "2. enumrate() :-\n",
    "   enumerate() returns a list of all Thread objects currently alive. The list includes daemonic threads, dummy thread objects created \n",
    "    by current_thread(), and the main thread."
   ]
  },
  {
   "cell_type": "code",
   "execution_count": null,
   "id": "c36d5bcc-d3c9-4f32-b7a7-6f9f5ad661e0",
   "metadata": {},
   "outputs": [],
   "source": []
  },
  {
   "cell_type": "code",
   "execution_count": null,
   "id": "f2517569-20fc-477b-9301-e4c5be6b61a5",
   "metadata": {},
   "outputs": [],
   "source": [
    "Q3. Explain the following functions :\n",
    "    1. run()\n",
    "    2. start()\n",
    "    3. join()\n",
    "    4. isAlive()\n",
    "    \n",
    "Answer :-\n",
    "1. run() :-\n",
    "   A run() method is used to define a thread's activity and can be overridden by a class that extends the threads class.\n",
    "\n",
    "2. start()\n",
    "   The Thread. start() method is an inbuilt method of the Thread class of the threading module, it is used to start a thread's activity.\n",
    "   This method calls the run() method internally which then executes the target method. This method must be called at most one time for one thread. \n",
    "\n",
    "3. join()\n",
    "   A join() method is used to block the execution of another code until the thread terminates.\n",
    "    \n",
    "4. isAlive()\n",
    "    is_alive() method is an inbuilt method of the Thread class of the threading module, it is used to check whether that thread is alive or not"
   ]
  },
  {
   "cell_type": "code",
   "execution_count": null,
   "id": "feb792f1-3919-4014-b28a-9e5c19bdd700",
   "metadata": {},
   "outputs": [],
   "source": []
  },
  {
   "cell_type": "code",
   "execution_count": 3,
   "id": "94c886ee-3443-464e-800e-db26e9fbb7fc",
   "metadata": {},
   "outputs": [
    {
     "name": "stdout",
     "output_type": "stream",
     "text": [
      "1 squared is 1\n",
      "2 squared is 4\n",
      "3 squared is 9\n",
      "4 squared is 16\n",
      "5 squared is 25\n",
      "1 cubed is 1\n",
      "2 cubed is 8\n",
      "3 cubed is 27\n",
      "4 cubed is 64\n",
      "5 cubed is 125\n"
     ]
    }
   ],
   "source": [
    "#Q4. write a python program to create two threads. Thread one must print the list of squares and thread two must print the list of cubes.\n",
    "\n",
    "import threading\n",
    "\n",
    "def print_squares():\n",
    "    for i in range(1, 6):\n",
    "        print(f\"{i} squared is {i*i}\")\n",
    "\n",
    "def print_cubes():\n",
    "    for i in range(1, 6):\n",
    "        print(f\"{i} cubed is {i*i*i}\")\n",
    "\n",
    "t1 = threading.Thread(target=print_squares)\n",
    "t2 = threading.Thread(target=print_cubes)\n",
    "\n",
    "t1.start()\n",
    "t2.start()\n",
    "\n",
    "t1.join()\n",
    "t2.join()\n"
   ]
  },
  {
   "cell_type": "code",
   "execution_count": null,
   "id": "6054ac21-617f-4ec0-8414-8efa70c205a4",
   "metadata": {},
   "outputs": [],
   "source": []
  },
  {
   "cell_type": "code",
   "execution_count": null,
   "id": "94428b18-d825-459c-a393-07f84ba50be9",
   "metadata": {},
   "outputs": [],
   "source": [
    "Q5. 5. State advantages and disadvantages of multithreading.\n",
    "Answer :-\n",
    "Advantages of multithreading:\n",
    "1. Enhances performance: With multithreading, multiple threads can run simultaneously on a single processor or multiple processors.\n",
    "This leads to better utilization of available resources and enhances the performance of the application.\n",
    "\n",
    "2. Increases responsiveness: Multithreading allows an application to respond to user input more quickly, as it can continue to execute\n",
    "tasks in the background while the user interacts with the application.\n",
    "\n",
    "3. Simplifies programming: Multithreading simplifies programming by allowing different parts of the application to execute concurrently\n",
    "without directly interacting with one another.\n",
    "\n",
    "4. Facilitates better resource management: Multithreading enables better utilization of system resources, such as memory, by allowing\n",
    "different parts of the application to access the same resources simultaneously.\n",
    "\n",
    "5. Improves fault tolerance: In a multithreaded environment, if one thread fails, the rest of the threads can continue execution and\n",
    "complete their tasks, thereby improving fault tolerance.\n",
    "\n",
    "Disadvantages of multithreading:\n",
    "\n",
    "1. Increases complexity: Multithreading increases the complexity of the application as different threads must be coordinated to avoid\n",
    "race conditions and deadlocks.\n",
    "\n",
    "2. Difficult to debug: Multithreaded applications can be difficult to debug as the behavior of the application may vary depending on the\n",
    "order in which the threads execute.\n",
    "\n",
    "3. Increases resource contention: Multithreading can lead to increased resource contention, where different threads compete for access\n",
    "to the same resources, leading to potential performance bottlenecks.\n",
    "\n",
    "4. Increases memory usage: Multithreading can increase memory usage as each thread may have its own stack and register set.\n",
    "\n",
    "5. May not be suitable for all applications: Multithreading may not be suitable for all types of applications, such as those that\n",
    "are predominantly I/O bound or those that require strict synchronization."
   ]
  },
  {
   "cell_type": "code",
   "execution_count": null,
   "id": "fbef9423-e318-4b5e-8ea3-67bf1e7f6c37",
   "metadata": {},
   "outputs": [],
   "source": []
  },
  {
   "cell_type": "code",
   "execution_count": null,
   "id": "7735858f-a417-4b67-aef6-10f479c0beee",
   "metadata": {},
   "outputs": [],
   "source": [
    "Q6. Explain deadlocks and race conditions.\n",
    "Answer :-\n",
    "Deadlock:-\n",
    "Deadlock occurs when two or more processes in a system are blocked and unable to proceed because they are waiting for each other to finish executing.\n",
    "This situation arises when each process holds a resource that the other process needs, and neither process is willing to release its resource until\n",
    "it has obtained the other resource it needs. As a result, a deadlock situation arises where the processes are stuck in a loop waiting for each other,\n",
    "and the entire system becomes unresponsive.Race condition: In computing, race conditions arise when two or more processes try to access a shared resource simultaneously, and the outcome of the execution depends on the order of process execution. This situation typically arises when multiple threads or processes access a shared resource without adequate synchronization. The resulting behavior of the system is dependent on the exact timing of the execution of the processes, and the outcome may be unpredictable and undesirable. Race conditions can result in data corruption, inconsistent values, and other problems."
   ]
  }
 ],
 "metadata": {
  "kernelspec": {
   "display_name": "Python 3 (ipykernel)",
   "language": "python",
   "name": "python3"
  },
  "language_info": {
   "codemirror_mode": {
    "name": "ipython",
    "version": 3
   },
   "file_extension": ".py",
   "mimetype": "text/x-python",
   "name": "python",
   "nbconvert_exporter": "python",
   "pygments_lexer": "ipython3",
   "version": "3.10.8"
  }
 },
 "nbformat": 4,
 "nbformat_minor": 5
}
