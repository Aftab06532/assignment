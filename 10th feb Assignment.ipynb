{
 "cells": [
  {
   "cell_type": "code",
   "execution_count": null,
   "id": "575b8f0d-e28b-4bfe-82dd-f912097ebffc",
   "metadata": {},
   "outputs": [],
   "source": [
    "Q1. Which function is used to open a file? What are the different modes of opening a file? Explain Each mode of file opening.\n",
    "\n",
    "Answer :-\n",
    "The open() function s used to open a file.\n",
    "\n",
    "There are four different modes used in python to opening a file:\n",
    "    \"r\" - Read :- Open a file for reading, error if the file does not exist.\n",
    "    \"a\" - Append :- Open a file for appending, Create the file if it does not exist.\n",
    "    \"w\" - Write :- Open a file for writing, Creates the file if it does not exist.\n",
    "    \"x\" - Create :- Creates the specified file, returns an error if the file exist.\n",
    "    \n",
    "Read Mode :\n",
    "    "
   ]
  },
  {
   "cell_type": "code",
   "execution_count": 10,
   "id": "6449e5c8-4a6d-4d65-be94-dec268060598",
   "metadata": {},
   "outputs": [],
   "source": [
    "#Write Mode :\n",
    "\n",
    "file1 = open('test.txt', 'w')\n",
    "file1.write(\"This is test file\")\n",
    "file1.close()\n",
    "\n",
    "# There are two things we need to remember while writing to a file.\n",
    "# 1. If we try to open a file that does not exist, a new file is created.\n",
    "# 2. If a file already exists, its content is erased, and a new content is added to a file."
   ]
  },
  {
   "cell_type": "code",
   "execution_count": 15,
   "id": "fab6941f-e20a-4337-b8a6-a6712e1d8f17",
   "metadata": {},
   "outputs": [
    {
     "data": {
      "text/plain": [
       "'This is test file'"
      ]
     },
     "execution_count": 15,
     "metadata": {},
     "output_type": "execute_result"
    }
   ],
   "source": [
    "#Read mode :\n",
    "\n",
    "file1 = open('test.txt')\n",
    "file1.read()\n",
    "\n",
    "# By default, the files are open in read mode(Cannot be modified)."
   ]
  },
  {
   "cell_type": "code",
   "execution_count": 17,
   "id": "19c8457e-9cc3-41d3-b5dc-1b80bbe5fb70",
   "metadata": {},
   "outputs": [
    {
     "data": {
      "text/plain": [
       "'This is test file'"
      ]
     },
     "execution_count": 17,
     "metadata": {},
     "output_type": "execute_result"
    }
   ],
   "source": [
    "file1 = open(\"test.txt\", \"r\")\n",
    "file1.read()\n",
    "\n",
    "# Here, we have explicitly spedified mode by passing the \"r\" argument which means file is opened for reading."
   ]
  },
  {
   "cell_type": "code",
   "execution_count": null,
   "id": "d7e70c1f-2fad-4aaf-b4ac-6d94501681e4",
   "metadata": {},
   "outputs": [],
   "source": []
  },
  {
   "cell_type": "code",
   "execution_count": null,
   "id": "25fd52e5-85fe-45e5-a2d6-434a5101806a",
   "metadata": {},
   "outputs": [],
   "source": [
    "Q2. Why close() is used? Why it is important to close a file ?\n",
    "\n",
    "Answer :\n",
    "close() function is used because in some cases , due to buffering,\n",
    "changes made to a file may not show until you close the file.\n",
    "\n",
    "closing a file is important because files are limited resources managed by the operating system, \n",
    "making sure files are closed after use will protect against hard- to- debug issues like running \n",
    "out of file handles or experiencing curroped data. The best defense is always to open files with \n",
    "a context manager."
   ]
  },
  {
   "cell_type": "code",
   "execution_count": null,
   "id": "07e38828-7caa-48f6-bf83-0bc6a92448f0",
   "metadata": {},
   "outputs": [],
   "source": []
  },
  {
   "cell_type": "code",
   "execution_count": 22,
   "id": "5e2928f5-1cbc-40c1-995d-2a634c7d2add",
   "metadata": {},
   "outputs": [],
   "source": [
    "#Q3. Write a python program to create a text file. Write ‘I want to become a Data Scientist’ in that file. Then\n",
    "#close the file. Open this file and read the content of the file.\n",
    "\n",
    "file2 = open(\"test2.txt\",\"w\")\n",
    "file2.write(\"I want to become a Data Scientist\")\n",
    "file2.close()"
   ]
  },
  {
   "cell_type": "code",
   "execution_count": 23,
   "id": "3db16a38-2212-464f-9fbb-7cd5d93fd6ee",
   "metadata": {},
   "outputs": [],
   "source": [
    "file2 = open(\"test2.txt\", \"r\")"
   ]
  },
  {
   "cell_type": "code",
   "execution_count": 24,
   "id": "9b023821-7fb2-4894-b852-f636967adcc5",
   "metadata": {},
   "outputs": [
    {
     "data": {
      "text/plain": [
       "'I want to become a Data Scientist'"
      ]
     },
     "execution_count": 24,
     "metadata": {},
     "output_type": "execute_result"
    }
   ],
   "source": [
    "file2.read()"
   ]
  },
  {
   "cell_type": "code",
   "execution_count": null,
   "id": "c520a948-4589-4aff-88bd-6c8344e3f596",
   "metadata": {},
   "outputs": [],
   "source": []
  },
  {
   "cell_type": "code",
   "execution_count": 26,
   "id": "b0a1b4a0-f12b-40dd-bc9d-3d40c27af53a",
   "metadata": {},
   "outputs": [
    {
     "name": "stdout",
     "output_type": "stream",
     "text": [
      "I want to become a Data Scientist\n"
     ]
    }
   ],
   "source": [
    "#Q4. Explain the following with python code: read(), readline() and readlines().\n",
    "\n",
    "# read() method:\n",
    "file2 = open(\"test2.txt\", \"r\")\n",
    "print(file2.read())\n",
    "\n",
    "# The read() method returns the specified number of byted from the file. Default is -1 which means the whole file. "
   ]
  },
  {
   "cell_type": "code",
   "execution_count": 27,
   "id": "2e1586fd-06f9-49c7-8f15-b57cee1425b1",
   "metadata": {},
   "outputs": [
    {
     "name": "stdout",
     "output_type": "stream",
     "text": [
      "I want to become a Data Scientist\n"
     ]
    }
   ],
   "source": [
    "# readline() method :\n",
    "file2 = open(\"test2.txt\", \"r\")\n",
    "print(file2.readline())\n",
    "\n",
    "# The readline() method returns one line from the file.\n",
    "# You can also specified how many bytes from the line to return, by using the size parameter."
   ]
  },
  {
   "cell_type": "code",
   "execution_count": 29,
   "id": "e55a3fc0-45e1-48e9-bc10-9757891ec7d4",
   "metadata": {},
   "outputs": [
    {
     "name": "stdout",
     "output_type": "stream",
     "text": [
      "['I want to become a Data Scientist']\n"
     ]
    }
   ],
   "source": [
    "# readlines() method :\n",
    "file2 = open(\"test2.txt\", \"r\")\n",
    "print(file2.readlines())\n",
    "\n",
    "# The readlines() method returns a list containing each line in the file as a list item.\n",
    "# Use the hint parameter to limit the number of lines returned. If the total number of bytes\n",
    "# returned exceeds the specified number, no more lines are returned."
   ]
  },
  {
   "cell_type": "code",
   "execution_count": null,
   "id": "3c9030fb-044a-4536-88e4-194db7640ba9",
   "metadata": {},
   "outputs": [],
   "source": []
  },
  {
   "cell_type": "code",
   "execution_count": null,
   "id": "64df5208-656c-4663-894d-6b04c97a14c0",
   "metadata": {},
   "outputs": [],
   "source": [
    "# Q5. Explain why with statement is used with open(). What is the advantage of using with statement and\n",
    "# open() together?\n",
    "\n",
    "# Answer :\n",
    "# In Python, with statement is used in exception handling to make the code cleaner and much more readable.\n",
    "# It simplifies the management of common resources like file streams.\n",
    "# Observe the following code example on how the use of with statement makes code cleaner. \n",
    "\n",
    "# 1) without using with statement\n",
    "file = open('file_path', 'w')\n",
    "file.write('hello world !')\n",
    "file.close()\n",
    "\n",
    "# 2) without using with statement\n",
    "file = open('file_path', 'w')\n",
    "try:\n",
    "    file.write('hello world')\n",
    "finally:\n",
    "    file.close()\n",
    "    \n",
    "# using with statement\n",
    "with open('file_path', 'w') as file:\n",
    "    file.write('hello world !')\n",
    "    \n",
    "# Notice that unlike the first two implementations, there is no need to call file.close() when using with statement.\n",
    "# The with statement itself ensures proper acquisition and release of resources.\n",
    "# An exception during the file.write() call in the first implementation can prevent the file from closing properly\n",
    "# which may introduce several bugs in the code, i.e. many changes in files do not go into effect until the file is properly\n",
    "# closed.\n",
    "\n",
    "# The second approach in the above example takes care of all the exceptions but using the with statement makes\n",
    "# the code compact and much more readable.\n",
    "\n",
    "# Thus, with statement helps avoiding bugs and leaks by ensuring that a resource is properly released when the code using\n",
    "# the resource is completely executed. \n"
   ]
  },
  {
   "cell_type": "code",
   "execution_count": null,
   "id": "5ca6da34-a877-4518-9073-a2371c1c20da",
   "metadata": {},
   "outputs": [],
   "source": []
  },
  {
   "cell_type": "code",
   "execution_count": 4,
   "id": "e88fd317-192e-4438-8e92-f4cafeedfc35",
   "metadata": {},
   "outputs": [
    {
     "name": "stdout",
     "output_type": "stream",
     "text": [
      "See you soon!\n"
     ]
    }
   ],
   "source": [
    "# Q6. Explain the write() and writelines() functions. Give a suitable example.\n",
    "\n",
    "# write() function :\n",
    "\n",
    "# The write() method writes a specified text to a file.\n",
    "# Where the specified text will be inserted depends on the file mode and stream position.\n",
    "# \"a\" : The text will be inserted at the current file stream position, default at the end of the file.\n",
    "# \"w\": The file will be emptied before the text will be inserted at the current file stream position, default 0.\n",
    "\n",
    "# Exa\n",
    "f = open(\"demofile2.txt\", \"a\")\n",
    "f.write(\"See you soon!\")\n",
    "f.close()\n",
    "\n",
    "#open and read the file after the appending:\n",
    "f = open(\"demofile2.txt\", \"r\")\n",
    "print(f.read())\n"
   ]
  },
  {
   "cell_type": "code",
   "execution_count": 5,
   "id": "b331dc96-d5e6-4404-a04a-ac63f8d68e87",
   "metadata": {},
   "outputs": [
    {
     "name": "stdout",
     "output_type": "stream",
     "text": [
      "See you soon!Over and out.\n"
     ]
    }
   ],
   "source": [
    "# writelines() method :\n",
    "# The writelines() method writes the items of a list to the file.\n",
    "# Where the texts will be inserted depends on the file mode and stream position.\n",
    "# \"a\":  The texts will be inserted at the current file stream position, default at the end of the file.\n",
    "# \"w\": The file will be emptied before the texts will be inserted at the current file stream position, default 0.\n",
    "\n",
    "# Example :-\n",
    "f = open(\"demofile3.txt\", \"a\")\n",
    "f.writelines([\"See you soon!\", \"Over and out.\"])\n",
    "f.close()\n",
    "\n",
    "#open and read the file after the appending:\n",
    "f = open(\"demofile3.txt\", \"r\")\n",
    "print(f.read())"
   ]
  },
  {
   "cell_type": "code",
   "execution_count": null,
   "id": "15a44f25-7170-418e-b386-279edf927e13",
   "metadata": {},
   "outputs": [],
   "source": []
  }
 ],
 "metadata": {
  "kernelspec": {
   "display_name": "Python 3 (ipykernel)",
   "language": "python",
   "name": "python3"
  },
  "language_info": {
   "codemirror_mode": {
    "name": "ipython",
    "version": 3
   },
   "file_extension": ".py",
   "mimetype": "text/x-python",
   "name": "python",
   "nbconvert_exporter": "python",
   "pygments_lexer": "ipython3",
   "version": "3.10.8"
  }
 },
 "nbformat": 4,
 "nbformat_minor": 5
}
