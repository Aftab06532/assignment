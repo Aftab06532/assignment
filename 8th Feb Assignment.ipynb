{
 "cells": [
  {
   "cell_type": "code",
   "execution_count": 31,
   "id": "664fe652-6650-4a12-a76b-226e9290ed26",
   "metadata": {},
   "outputs": [
    {
     "name": "stdout",
     "output_type": "stream",
     "text": [
      "The milaege is 30kmph\n",
      "The milaege is 25kmph\n",
      "The milaege is 24mph\n",
      "The milaege is 27kmph\n"
     ]
    }
   ],
   "source": [
    "# Q1. What is abstraction in oops. Explain with an example.\n",
    "\n",
    "# Abstraction is used hide internal functionality of the function from the user.\n",
    "# The user only interect with the basic implementation of the function, but inner working is hidden.\n",
    "# User is familier with that what function does, but they don't know how it does.\n",
    "# In simple word, we all use the smartphones and very much familier with the functions such as camera, voice-recorder, call-dialing, etc.\n",
    "# but we don't know how these operations are happening in background. \n",
    "\n",
    "# Example :\n",
    "\n",
    "import abc\n",
    "class Car :\n",
    "    @abc.abstractmethod\n",
    "    def mileage(self) :\n",
    "        pass\n",
    "    \n",
    "class Tesle(Car) :\n",
    "    def mileage(self) :\n",
    "        print(\"The milaege is 30kmph\")\n",
    "    \n",
    "class Suzuki(Car) :\n",
    "    def mileage(self) :\n",
    "        print(\"The milaege is 25kmph\")\n",
    "    \n",
    "class Renault(Car) :\n",
    "    def mileage(self) :\n",
    "        print(\"The milaege is 24mph\")\n",
    "    \n",
    "class Duster(Car) :\n",
    "    def mileage(self) :\n",
    "        print(\"The milaege is 27kmph\")\n",
    "    \n",
    "\n",
    "t = Tesle()\n",
    "t.mileage()\n",
    "\n",
    "s = Suzuki()\n",
    "s.mileage()\n",
    "\n",
    "r = Renault()\n",
    "r.mileage()\n",
    "\n",
    "d = Duster()\n",
    "d.mileage()\n"
   ]
  },
  {
   "cell_type": "code",
   "execution_count": null,
   "id": "66907dbd-a9db-474a-918a-4273b64694a6",
   "metadata": {},
   "outputs": [],
   "source": []
  },
  {
   "cell_type": "code",
   "execution_count": 1,
   "id": "4ba3971b-a9b7-4700-9fb5-b438fc9e1783",
   "metadata": {},
   "outputs": [],
   "source": [
    "# Q2. Differentiate betwwen Abstraction and Encapsulation. Expalin with an exapmle.\n",
    "\n",
    "# Definition :-\n",
    "# Abstraction is hiding the details and implementation of code.\n",
    "# Encapsulation is hiding the data and controlling the visibility of code.\n",
    "\n",
    "# Phase :-\n",
    "# Abstraction is a design level process.\n",
    "# Encapsulation is an implementation level process.\n",
    "\n",
    "# Pivotal Ability:-\n",
    "# Abstraction is concerned about what a class instance can do, instead of the implementation of the class.\n",
    "# Encapsulation helps in data binding and control over maintaining the transparency of the data.\n",
    "\n",
    "#Focus :-\n",
    "# Abstraction mainly focuses on what must be done, whereas encapsulation mainly focuses on how it must be done.\n",
    "\n",
    "#Example :-\n",
    "# You can better understand Encapsulation vs Abstraction with an example. Abstraction is used in mobile phones’ GUI.\n",
    "# When you click on the icons, abstraction allows them to perform specific functions. Let’s look at the encapsulation \n",
    "# example to clarify the Encapsulation vs Abstraction. After the icon is clicked, the encapsulation works in the backend\n",
    "# to guide the user on the next steps."
   ]
  },
  {
   "cell_type": "code",
   "execution_count": 6,
   "id": "f82979c9-c8f1-49a1-a0dc-584b5ec1910c",
   "metadata": {},
   "outputs": [
    {
     "name": "stdout",
     "output_type": "stream",
     "text": [
      "this is return a student details for data science masters \n",
      "this is method for checking student details\n"
     ]
    }
   ],
   "source": [
    "# Abstraction Example :-\n",
    "\n",
    "import abc\n",
    "class pwskills :\n",
    "    @abc.abstractmethod\n",
    "    def student_details(self) :\n",
    "        pass\n",
    "    \n",
    "    @abc.abstractmethod\n",
    "    def studdent_assignments(self) :\n",
    "        pass\n",
    "    \n",
    "    @abc.abstractmethod\n",
    "    def student_marks(self) :\n",
    "        pass\n",
    "    \n",
    "class student_details(pwskills) :\n",
    "    def student_details(self) :\n",
    "        print(\"this is method for checking student details\")\n",
    "    \n",
    "    def student_assignment(self) :\n",
    "        print(\"thsi is a meth for assign details for a particular student\")\n",
    "    \n",
    "class data_science_masters(pwskills) :\n",
    "    \n",
    "    def students_details(self) :\n",
    "        print(\"this is return a student details for data science masters \")\n",
    "    \n",
    "    def student_assignment(self) :\n",
    "        print(\"thsi will give you a student assignment details for data science masters \")\n",
    "    \n",
    "dsm = data_science_masters()\n",
    "dsm.students_details()\n",
    "    \n",
    "sd = student_details()\n",
    "sd.student_details()"
   ]
  },
  {
   "cell_type": "code",
   "execution_count": 9,
   "id": "16fed94e-caae-44c9-bc83-203582563093",
   "metadata": {},
   "outputs": [
    {
     "name": "stdout",
     "output_type": "stream",
     "text": [
      "This is my syllabus for data science master\n",
      "this is my syllabus for web dev\n"
     ]
    }
   ],
   "source": [
    "# Polymorphism Example :-\n",
    "\n",
    "class data_science :\n",
    "    def syllabus(self) :\n",
    "        print(\"This is my syllabus for data science master\")\n",
    "        \n",
    "class web_dev :\n",
    "    def syllabus(self) :\n",
    "        print(\"this is my syllabus for web dev\")\n",
    "        \n",
    "def class_parcer(class_obj):\n",
    "    for i in class_obj :\n",
    "        i.syllabus()\n",
    "        \n",
    "data_science = data_science()\n",
    "web_dev = web_dev()\n",
    "\n",
    "class_obj = [data_science, web_dev]\n",
    "\n",
    "class_parcer(class_obj)"
   ]
  },
  {
   "cell_type": "code",
   "execution_count": null,
   "id": "6ebda7d8-5419-409c-ae4e-3905ec1545aa",
   "metadata": {},
   "outputs": [],
   "source": []
  },
  {
   "cell_type": "code",
   "execution_count": 10,
   "id": "bf394470-7470-4713-b657-a229c03392f9",
   "metadata": {},
   "outputs": [
    {
     "name": "stdout",
     "output_type": "stream",
     "text": [
      "area:  200\n"
     ]
    }
   ],
   "source": [
    "# Q3. What is abc module in python? Why is it used?\n",
    "\n",
    "# The abc module defines ABCMeta Class which is a metaclass for defining abstract base class.\n",
    "\n",
    "# Following example defines Shape class as an abstract base class using ABCMeta. \n",
    "# The shape class has area() method decorated by abstractmethod.\n",
    "\n",
    "# A Rectangle class now uses above Shape class as its parent and implementing the abstract area() method. \n",
    "# Since it is a concrete class, it can be instantiated and imlemented area() method can be called.\n",
    "\n",
    "import abc\n",
    "class Shape(metaclass=abc.ABCMeta):\n",
    "   @abc.abstractmethod\n",
    "   def area(self):\n",
    "      pass\n",
    "class Rectangle(Shape):\n",
    "   def __init__(self, x,y):\n",
    "      self.l = x\n",
    "      self.b=y\n",
    "   def area(self):\n",
    "      return self.l*self.b\n",
    "r = Rectangle(10,20)\n",
    "print ('area: ',r.area())"
   ]
  },
  {
   "cell_type": "code",
   "execution_count": null,
   "id": "c5abf836-1f5b-415d-8350-bbdf867985ea",
   "metadata": {},
   "outputs": [],
   "source": []
  },
  {
   "cell_type": "code",
   "execution_count": 11,
   "id": "d8150dee-d1d0-490e-958a-dd76c3c55bd0",
   "metadata": {},
   "outputs": [],
   "source": [
    "# Q4. How can we achieve data abstraction?\n",
    "\n",
    "# Data Abstraction in Python can be achieved through creating abstract classes and inheriting them later."
   ]
  },
  {
   "cell_type": "code",
   "execution_count": null,
   "id": "d62f9d68-d1dd-4533-9b54-2820d2be46c1",
   "metadata": {},
   "outputs": [],
   "source": []
  },
  {
   "cell_type": "code",
   "execution_count": null,
   "id": "80c6f5e0-0391-4d11-8d14-29fc6984a3e1",
   "metadata": {},
   "outputs": [],
   "source": [
    "# Q5. Can we create an instance of an abstract class? Explain your answer.\n",
    "\n",
    "# No youcan not create an instance of an ABSTRACT class. \n",
    "# This class is only used to provide structure to the program. \n",
    "# Using an ABSTRACT class ensures that you will use inheritance which is the basic of object oriented programing.\n",
    "# Though you can create a reference of an ABSTRACT class which can store the object of the derived class."
   ]
  }
 ],
 "metadata": {
  "kernelspec": {
   "display_name": "Python 3 (ipykernel)",
   "language": "python",
   "name": "python3"
  },
  "language_info": {
   "codemirror_mode": {
    "name": "ipython",
    "version": 3
   },
   "file_extension": ".py",
   "mimetype": "text/x-python",
   "name": "python",
   "nbconvert_exporter": "python",
   "pygments_lexer": "ipython3",
   "version": "3.10.8"
  }
 },
 "nbformat": 4,
 "nbformat_minor": 5
}
