{
 "cells": [
  {
   "cell_type": "code",
   "execution_count": null,
   "id": "050593b9-3378-45e6-bbf7-cf97b55cf6e4",
   "metadata": {},
   "outputs": [],
   "source": [
    "Q1. Wht is an Exception in python? Write the difference between Exceptions and syntax errors.\n",
    "Answer :\n",
    "    \n",
    "Exception:-\n",
    "An exception in Python is an incident that happens while executing a program that causes the regular course of the program's \n",
    "commands to be disrupted. When a Python code comes across a condition it can't handle, it raises an exception. \n",
    "An object in Python that describes an error is called an exception.\n",
    "\n",
    "Exception :\n",
    "When in the runtime an error that occurs after passing the syntax test is called exception or logical type. \n",
    "For example, when we divide any number by zero then the ZeroDivisionError exception is raised, \n",
    "or when we import a module that does not exist then ImportError is raised.\n",
    "\n",
    "Syntax Error :-\n",
    "When the proper syntax of the language is not followed then a syntax error is thrown.\n"
   ]
  },
  {
   "cell_type": "code",
   "execution_count": null,
   "id": "0d6fc942-17f9-4edf-a7e6-1182f93a3260",
   "metadata": {},
   "outputs": [],
   "source": []
  },
  {
   "cell_type": "code",
   "execution_count": 5,
   "id": "3a1d34ff-3031-4b2f-8a18-21730f5d3b46",
   "metadata": {},
   "outputs": [
    {
     "name": "stdout",
     "output_type": "stream",
     "text": [
      "Error: Denominator cannot be 0. \n"
     ]
    }
   ],
   "source": [
    "#Q2. What happens when an exception is not handled? Explain with an example.\n",
    "#Answer :\n",
    "\"\"\"\n",
    "When an exception occurred, if you don’t handle it, the program terminates abruptly and the code past\n",
    "the line that caused the exception will not get executed.\n",
    "\"\"\"\n",
    "\n",
    "#Example :-\n",
    "try :\n",
    "    numerator = 10\n",
    "    denominator = 0\n",
    "    result = numerator/denominator\n",
    "    \n",
    "    print(result)\n",
    "except :\n",
    "    print(\"Error: Denominator cannot be 0. \")\n",
    "    \n",
    "\"\"\"\n",
    "In the example, we are trying to divide a number by 0. Here, this code generates an exception.\n",
    "\n",
    "To handle the exception, we have put the code, result = numerator/denominator inside the try block. \n",
    "Now when an exception occurs, the rest of the code inside the try block is skipped.\n",
    "\n",
    "The except block catches the exception and statements inside the except block are executed.\n",
    "\n",
    "If none of the statements in the try block generates an exception, the except block is skipped.\n",
    "\"\"\""
   ]
  },
  {
   "cell_type": "code",
   "execution_count": null,
   "id": "42b68e5a-484c-4808-b1ae-2ddb48e435ed",
   "metadata": {},
   "outputs": [],
   "source": []
  },
  {
   "cell_type": "code",
   "execution_count": 8,
   "id": "9a752d8e-7874-4c7a-9671-a032a02b54a4",
   "metadata": {},
   "outputs": [
    {
     "name": "stdout",
     "output_type": "stream",
     "text": [
      "This is my except block [Errno 2] No such file or directory: 'assignment.txt'\n"
     ]
    }
   ],
   "source": [
    "# Q2. Which python statements are used to catch and handle exception? Explain with an Example.\n",
    "# Answer :\n",
    "# The try and except statements in Python is used to catch and handle exceptions.\n",
    "\n",
    "# Example : \n",
    "    \n",
    "try :\n",
    "    f = open(\"assignment.txt\" , \"r\")\n",
    "except Exception as e :\n",
    "    print(\"This is my except block\" , e)\n",
    "\n",
    "# In the example, we are trying to open a file in read mode which is not available. Here, this code generates an exception.\n",
    "\n",
    "# To handle the exception, we have put the code, f = open(\"assignment.txt\" , \"r\") inside the try block. \n",
    "# Now when an exception occurs, the rest of the code inside the try block is skipped.\n",
    "\n",
    "# The except block catches the exception and statements inside the except block are executed.\n"
   ]
  },
  {
   "cell_type": "code",
   "execution_count": null,
   "id": "4d7125df-88d6-45f9-9c59-974bce268992",
   "metadata": {},
   "outputs": [],
   "source": []
  },
  {
   "cell_type": "code",
   "execution_count": null,
   "id": "9dbcc715-6f85-4d66-a477-c1cb515c0c0d",
   "metadata": {},
   "outputs": [],
   "source": [
    "Q4. Explain with an example :\n",
    "    a. try and else\n",
    "    b. finally\n",
    "    c. raise\n",
    "    "
   ]
  },
  {
   "cell_type": "code",
   "execution_count": 10,
   "id": "2b2b3471-efc3-4386-a063-cefa96c2690b",
   "metadata": {},
   "outputs": [
    {
     "name": "stdout",
     "output_type": "stream",
     "text": [
      "An exception occurred\n"
     ]
    }
   ],
   "source": [
    "# a. try and else\n",
    "\n",
    "# try :\n",
    "# The try block lets you test a block of code for errors. \n",
    "\n",
    "# Example : \n",
    "try:\n",
    "  print(x)\n",
    "except:\n",
    "  print(\"An exception occurred\")\n",
    "\n",
    "# Since the try block raises an error, the except block will be executed."
   ]
  },
  {
   "cell_type": "code",
   "execution_count": 11,
   "id": "6cffaa44-3572-48e0-8448-b9c33a8824ad",
   "metadata": {},
   "outputs": [
    {
     "name": "stdout",
     "output_type": "stream",
     "text": [
      "Hello\n",
      "Nothing went wrong\n"
     ]
    }
   ],
   "source": [
    "# else :\n",
    "# The else block lets you execute code when there is no error.\n",
    "\n",
    "# Example :In this example, the try block does not generate any error \n",
    "try:\n",
    "  print(\"Hello\")\n",
    "except:\n",
    "  print(\"Something went wrong\")\n",
    "else:\n",
    "  print(\"Nothing went wrong\")"
   ]
  },
  {
   "cell_type": "code",
   "execution_count": 12,
   "id": "8c7c97bd-7450-4ca9-8e72-e3015b8f6241",
   "metadata": {},
   "outputs": [
    {
     "name": "stdout",
     "output_type": "stream",
     "text": [
      "Something went wrong\n",
      "The 'try except' is finished\n"
     ]
    }
   ],
   "source": [
    "# b. finally\n",
    "# The finally block lets you execute code, regardless of the result of the try- and except blocks.\n",
    "\n",
    "# Example :-\n",
    "try:\n",
    "  print(x)\n",
    "except:\n",
    "  print(\"Something went wrong\")\n",
    "finally:\n",
    "  print(\"The 'try except' is finished\")"
   ]
  },
  {
   "cell_type": "code",
   "execution_count": 17,
   "id": "7fbbba0f-043a-4a3b-93ab-5bebcf6635ee",
   "metadata": {},
   "outputs": [
    {
     "ename": "Exception",
     "evalue": "Sorry, no numbers below zero",
     "output_type": "error",
     "traceback": [
      "\u001b[0;31m---------------------------------------------------------------------------\u001b[0m",
      "\u001b[0;31mException\u001b[0m                                 Traceback (most recent call last)",
      "Cell \u001b[0;32mIn[17], line 9\u001b[0m\n\u001b[1;32m      6\u001b[0m x \u001b[38;5;241m=\u001b[39m \u001b[38;5;241m-\u001b[39m\u001b[38;5;241m1\u001b[39m\n\u001b[1;32m      8\u001b[0m \u001b[38;5;28;01mif\u001b[39;00m x \u001b[38;5;241m<\u001b[39m \u001b[38;5;241m0\u001b[39m:\n\u001b[0;32m----> 9\u001b[0m   \u001b[38;5;28;01mraise\u001b[39;00m \u001b[38;5;167;01mException\u001b[39;00m(\u001b[38;5;124m\"\u001b[39m\u001b[38;5;124mSorry, no numbers below zero\u001b[39m\u001b[38;5;124m\"\u001b[39m)\n",
      "\u001b[0;31mException\u001b[0m: Sorry, no numbers below zero"
     ]
    }
   ],
   "source": [
    "# c. raise :\n",
    "# The raise keyword is used to raise an exception.\n",
    "# You can define what kind of error to raise, and the text to print to the user.\n",
    "\n",
    "# Example :-\n",
    "x = -1\n",
    "\n",
    "if x < 0:\n",
    "  raise Exception(\"Sorry, no numbers below zero\")\n"
   ]
  },
  {
   "cell_type": "code",
   "execution_count": null,
   "id": "86d0c391-692b-44f3-ae23-15ce79ca96d7",
   "metadata": {},
   "outputs": [],
   "source": []
  },
  {
   "cell_type": "code",
   "execution_count": null,
   "id": "9faeeab0-a2c8-4922-8c49-0b75ba9e5363",
   "metadata": {},
   "outputs": [],
   "source": [
    "Q5. What are Custom Exceptions in python? Why do we need Custom Exceptions?Explain with an example.\n",
    "Answer :-\n",
    "User defined exceptions in python are created by programmers to enforce constraints on the values which the variables in the program can take. \n",
    "\n",
    "We need custom exception because, Built-in exceptions offer information about Python-related problems, \n",
    "and custom exceptions will add information about project-related problems. \n",
    "That way, you can design your code (and traceback, if an exception is raised) in a way that combines Python code with the language of the project."
   ]
  },
  {
   "cell_type": "code",
   "execution_count": 18,
   "id": "c7e533a1-2d79-4701-bb37-bb5eebe9725b",
   "metadata": {},
   "outputs": [
    {
     "name": "stdin",
     "output_type": "stream",
     "text": [
      "enter your age 25\n"
     ]
    },
    {
     "name": "stdout",
     "output_type": "stream",
     "text": [
      "age is valid\n"
     ]
    }
   ],
   "source": [
    "# Example :-\n",
    "\n",
    "class validateage(Exception):\n",
    "    \n",
    "    def __init__(self , msg) : \n",
    "        self.msg = msg\n",
    "        \n",
    "def validaetage(age) : \n",
    "    if age < 0 :\n",
    "        raise validateage(\"entered age is negative \" )\n",
    "    elif age > 200 : \n",
    "        raise validateage(\"enterd age is very very high \" )\n",
    "    else :\n",
    "        print(\"age is valid\" )\n",
    "        \n",
    "try :\n",
    "    age = int(input(\"enter your age\" ))\n",
    "    validaetage(age)\n",
    "except validateage as e :\n",
    "    print(e)"
   ]
  },
  {
   "cell_type": "code",
   "execution_count": null,
   "id": "d3d7543f-6142-413e-9f96-ccda11623ec1",
   "metadata": {},
   "outputs": [],
   "source": []
  },
  {
   "cell_type": "code",
   "execution_count": 19,
   "id": "482da959-2e9b-4c1d-80ca-5b7160bce470",
   "metadata": {},
   "outputs": [
    {
     "name": "stdin",
     "output_type": "stream",
     "text": [
      "enter your age -56\n"
     ]
    },
    {
     "name": "stdout",
     "output_type": "stream",
     "text": [
      "entered age is negative \n"
     ]
    }
   ],
   "source": [
    "# Q6. Create a custom exception class. Use this class to handle an exception.\n",
    "\n",
    "class validateage(Exception):\n",
    "    \n",
    "    def __init__(self , msg) : \n",
    "        self.msg = msg\n",
    "        \n",
    "def validaetage(age) : \n",
    "    if age < 0 :\n",
    "        raise validateage(\"entered age is negative \" )\n",
    "    elif age > 200 : \n",
    "        raise validateage(\"enterd age is very very high \" )\n",
    "    else :\n",
    "        print(\"age is valid\" )\n",
    "        \n",
    "try :\n",
    "    age = int(input(\"enter your age\" ))\n",
    "    validaetage(age)\n",
    "except validateage as e :\n",
    "    print(e)"
   ]
  },
  {
   "cell_type": "code",
   "execution_count": null,
   "id": "3a9e8c7c-a290-4559-8527-4fc65f921535",
   "metadata": {},
   "outputs": [],
   "source": []
  }
 ],
 "metadata": {
  "kernelspec": {
   "display_name": "Python 3 (ipykernel)",
   "language": "python",
   "name": "python3"
  },
  "language_info": {
   "codemirror_mode": {
    "name": "ipython",
    "version": 3
   },
   "file_extension": ".py",
   "mimetype": "text/x-python",
   "name": "python",
   "nbconvert_exporter": "python",
   "pygments_lexer": "ipython3",
   "version": "3.10.8"
  }
 },
 "nbformat": 4,
 "nbformat_minor": 5
}
