{
 "cells": [
  {
   "cell_type": "code",
   "execution_count": 9,
   "id": "e68c7c1d-fba2-4c10-a75b-e9148052a048",
   "metadata": {},
   "outputs": [
    {
     "name": "stdin",
     "output_type": "stream",
     "text": [
      "Enter your marks :  101\n"
     ]
    },
    {
     "name": "stdout",
     "output_type": "stream",
     "text": [
      "Enter valid input\n"
     ]
    }
   ],
   "source": [
    "# Q1. Write a program to accept percentage from the user and display the grade according to the following criteria:\n",
    "# Marks                    Grade\n",
    "# >90                        A\n",
    "# >80 and <=90               B\n",
    "# >=60 and <=80              C\n",
    "# below 60                   D\n",
    "\n",
    "marks = int(input(\"Enter your marks : \"))\n",
    "if marks > 90 and marks <= 100 :\n",
    "    print(\"Your grade is A\")\n",
    "elif marks > 80 and marks <= 90 :\n",
    "    print(\"Your grade is B\")\n",
    "elif marks >=60 and marks <= 80 :\n",
    "    print(\"Your grade is C\")\n",
    "elif marks < 60 and marks >= 1 :\n",
    "    print(\"Your grade is D\")\n",
    "else :\n",
    "    print(\"Enter valid input\")"
   ]
  },
  {
   "cell_type": "code",
   "execution_count": null,
   "id": "bcb2d169-27ca-451c-925c-aed203fc723c",
   "metadata": {},
   "outputs": [],
   "source": []
  },
  {
   "cell_type": "code",
   "execution_count": 18,
   "id": "ed1f1633-3300-4ea5-b74b-ef1eef68c6f7",
   "metadata": {},
   "outputs": [
    {
     "name": "stdin",
     "output_type": "stream",
     "text": [
      "Enter bike price :  10000\n"
     ]
    },
    {
     "name": "stdout",
     "output_type": "stream",
     "text": [
      "Road tax on the price  10000  is  500.0\n"
     ]
    }
   ],
   "source": [
    "# Q2. Write a program to accept the cost price of a bike and display the road tax to be paid according to the following criteria :\n",
    "# Tax                       Cost Price(in Rs)\n",
    "# 15%                           >100000\n",
    "# 10%                       >50000 and <=100000\n",
    "# 5%                            <= 50000\n",
    "\n",
    "cost = int(input(\"Enter bike price : \"))\n",
    "road_tax = 0\n",
    "if cost > 100000 :\n",
    "    final_price = (cost*15)/100\n",
    "    print(\"Road tax on the price \", cost ,\" is \",final_price)\n",
    "elif cost > 50000 and cost <= 100000 :\n",
    "    road_tax = (cost*10)/100\n",
    "    print(\"Road tax on the price \", cost ,\" is \",road_tax)\n",
    "elif cost <= 50000 :\n",
    "    road_tax = (cost*5)/100\n",
    "    print(\"Road tax on the price \", cost ,\" is \",road_tax)"
   ]
  },
  {
   "cell_type": "code",
   "execution_count": null,
   "id": "0d912d8c-e390-4d61-a255-19fa8a3b068d",
   "metadata": {},
   "outputs": [],
   "source": []
  },
  {
   "cell_type": "code",
   "execution_count": 25,
   "id": "3bac60e2-a576-4c66-aa0d-adc8f14cf935",
   "metadata": {},
   "outputs": [
    {
     "name": "stdin",
     "output_type": "stream",
     "text": [
      "Enter city name :  jaipur\n"
     ]
    },
    {
     "name": "stdout",
     "output_type": "stream",
     "text": [
      "City :  jaipur       Momuments :  Jal Mahal\n"
     ]
    }
   ],
   "source": [
    "# Q3. Accept any city from the user and display monuments of that city.\n",
    "# City                   Monuments\n",
    "# Delhi                  Red Fort\n",
    "# Agra                   Taj Mahal\n",
    "# Jaipur                 Jal Mahal\n",
    "\n",
    "city = input(\"Enter city name : \")\n",
    "if city == \"Delhi\" or city == \"delhi\":\n",
    "    print(\"City : \",city,\"     \",\"Momuments : \",\"Red Fort\")\n",
    "elif city == \"Agra\" or city == \"agra\":\n",
    "    print(\"City : \",city,\"     \",\"Momuments : \",\"Taj Mahal\")\n",
    "elif city == \"Jaipur\" or city == \"jaipur\":\n",
    "    print(\"City : \",city,\"     \",\"Momuments : \",\"Jal Mahal\")"
   ]
  },
  {
   "cell_type": "code",
   "execution_count": null,
   "id": "4bd42715-67aa-4da8-8e23-bdb29685af12",
   "metadata": {},
   "outputs": [],
   "source": []
  },
  {
   "cell_type": "code",
   "execution_count": 34,
   "id": "ecaf3b39-5f87-4f22-b9aa-07b6e73cd23c",
   "metadata": {},
   "outputs": [
    {
     "name": "stdin",
     "output_type": "stream",
     "text": [
      "Enter any number :  100\n"
     ]
    },
    {
     "name": "stdout",
     "output_type": "stream",
     "text": [
      "3\n"
     ]
    }
   ],
   "source": [
    "# Q4. Check how many times a given number can divided by 3 before it is less than or equal to 10.\n",
    "\n",
    "num = int(input(\"Enter any number : \"))\n",
    "count = 0\n",
    "while num > 10 :\n",
    "    num = num / 3\n",
    "    count += 1\n",
    "print(count)\n"
   ]
  },
  {
   "cell_type": "code",
   "execution_count": null,
   "id": "631cdc01-3032-4bde-9dc1-cf5365c620b9",
   "metadata": {},
   "outputs": [],
   "source": []
  },
  {
   "cell_type": "code",
   "execution_count": 37,
   "id": "41207ef0-69a8-4187-bcc6-1b91f16b50df",
   "metadata": {},
   "outputs": [
    {
     "name": "stdin",
     "output_type": "stream",
     "text": [
      "Enter any number :  32\n"
     ]
    },
    {
     "name": "stdout",
     "output_type": "stream",
     "text": [
      "5\n"
     ]
    }
   ],
   "source": [
    "# Q5. Why and when to use while loop in Python give a detailed description with example.\n",
    "\n",
    "# The while loop is used to repeat a section of code an unknown number of times until a specific condition is met.\n",
    "# For example, say we want to know how many times a given number can be divided by before it is less than or eqal to 1.\n",
    "# If we know a specific number, such as 32, we can say 5 times, but for a given symbolic variable \"NUMBER\" which represents\n",
    "# any number in the world, how many times is not known a priori(before hand). In this case, we could use a while loop to \n",
    "# determine that answer.\n",
    "\n",
    "# Example to check how namy times given number divided by 2\n",
    "num = int(input(\"Enter any number : \"))\n",
    "count = 0\n",
    "while num > 1 :\n",
    "    num = num / 2\n",
    "    count += 1\n",
    "print(count)\n"
   ]
  },
  {
   "cell_type": "code",
   "execution_count": null,
   "id": "b5e82ec2-234a-4cd7-aba2-e0761b824677",
   "metadata": {},
   "outputs": [],
   "source": []
  },
  {
   "cell_type": "code",
   "execution_count": 3,
   "id": "b3121cd2-7f42-4dc8-888d-952083476ec8",
   "metadata": {},
   "outputs": [
    {
     "name": "stdout",
     "output_type": "stream",
     "text": [
      "* \n",
      "* * \n",
      "* * * \n",
      "* * * * \n",
      "* * * * * \n"
     ]
    }
   ],
   "source": [
    "# Use nested while loop to print 3 different patterns.\n",
    "\n",
    "# Right Triangle pattern\n",
    "\n",
    "def triangle(n) :\n",
    "\n",
    "    i = 1\n",
    "    while i <= n :\n",
    "        j = 1\n",
    "        while j <= i:\n",
    "            print(\"*\", end = \" \")\n",
    "            j += 1\n",
    "        print()\n",
    "        i += 1\n",
    "        \n",
    "n = 5\n",
    "triangle(n)"
   ]
  },
  {
   "cell_type": "code",
   "execution_count": 2,
   "id": "5c51f1e7-587c-4ecf-9421-c86a43af642e",
   "metadata": {},
   "outputs": [
    {
     "name": "stdout",
     "output_type": "stream",
     "text": [
      "* * * * * \n",
      "* * * * \n",
      "* * * \n",
      "* * \n",
      "* \n"
     ]
    }
   ],
   "source": [
    "# Inverted Right Triangle pattern\n",
    "\n",
    "def triangle(n) :\n",
    "\n",
    "    i = 1\n",
    "    while i <= n :\n",
    "        j = n\n",
    "        while j >= i:\n",
    "            print(\"*\", end = \" \")\n",
    "            j -= 1\n",
    "        print()\n",
    "        i += 1\n",
    "        \n",
    "n = 5\n",
    "triangle(n)"
   ]
  },
  {
   "cell_type": "code",
   "execution_count": 5,
   "id": "760444a2-e50d-4dca-b14d-3d5f3a39a01b",
   "metadata": {},
   "outputs": [
    {
     "name": "stdout",
     "output_type": "stream",
     "text": [
      "  1 \n",
      "  2   3 \n",
      "  4   5   6 \n",
      "  7   8   9  10 \n",
      " 11  12  13  14  15 \n"
     ]
    }
   ],
   "source": [
    "# Number pattern\n",
    "\n",
    "def triangle(n) :\n",
    "\n",
    "    i = 1\n",
    "    k = 1\n",
    "    while i <= n :\n",
    "        j = 1\n",
    "        while j <= i:\n",
    "            print(\"{:3d}\".format(k), end = \" \")\n",
    "            j += 1\n",
    "            k += 1\n",
    "        print()\n",
    "        i += 1 \n",
    "        \n",
    "        \n",
    "n = 5\n",
    "triangle(n)"
   ]
  },
  {
   "cell_type": "code",
   "execution_count": null,
   "id": "b94926c3-6044-40db-a9b2-fbfd541bf823",
   "metadata": {},
   "outputs": [],
   "source": []
  },
  {
   "cell_type": "code",
   "execution_count": 7,
   "id": "3ccb43f2-4c67-4873-8dfd-1a54d65001df",
   "metadata": {},
   "outputs": [
    {
     "name": "stdout",
     "output_type": "stream",
     "text": [
      "10\n",
      "9\n",
      "8\n",
      "7\n",
      "6\n",
      "5\n",
      "4\n",
      "3\n",
      "2\n",
      "1\n"
     ]
    }
   ],
   "source": [
    "# Q7. Reverse a while loop to display numbers from 10 to 1.\n",
    "\n",
    "i = 10\n",
    "while i > 0 :\n",
    "    print(i, )\n",
    "    i -= 1\n",
    "    \n",
    "    "
   ]
  },
  {
   "cell_type": "code",
   "execution_count": null,
   "id": "6821fb65-7c3e-48c5-b885-b98b95d63ae5",
   "metadata": {},
   "outputs": [],
   "source": []
  },
  {
   "cell_type": "code",
   "execution_count": null,
   "id": "cb896af8-79f4-4303-a06a-58bb25238477",
   "metadata": {},
   "outputs": [],
   "source": []
  },
  {
   "cell_type": "code",
   "execution_count": null,
   "id": "7666acff-2d6f-4845-a032-af889685ed7d",
   "metadata": {},
   "outputs": [],
   "source": []
  }
 ],
 "metadata": {
  "kernelspec": {
   "display_name": "Python 3 (ipykernel)",
   "language": "python",
   "name": "python3"
  },
  "language_info": {
   "codemirror_mode": {
    "name": "ipython",
    "version": 3
   },
   "file_extension": ".py",
   "mimetype": "text/x-python",
   "name": "python",
   "nbconvert_exporter": "python",
   "pygments_lexer": "ipython3",
   "version": "3.10.8"
  }
 },
 "nbformat": 4,
 "nbformat_minor": 5
}
