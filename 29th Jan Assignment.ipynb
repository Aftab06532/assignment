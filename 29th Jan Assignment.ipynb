{
 "cells": [
  {
   "cell_type": "code",
   "execution_count": 1,
   "id": "01223996-715d-4f4d-b4a9-25e6c1ca7778",
   "metadata": {},
   "outputs": [],
   "source": [
    "# Q1. Who developed Python Programming Language?\n",
    "\n",
    "# Python Programming Language was developed by Guido van Rossum."
   ]
  },
  {
   "cell_type": "code",
   "execution_count": null,
   "id": "9ab1269f-96dd-46f5-8105-f0c47aa0a9a8",
   "metadata": {},
   "outputs": [],
   "source": []
  },
  {
   "cell_type": "code",
   "execution_count": 2,
   "id": "b235849f-e9c3-4937-87cb-2fbb7c43399b",
   "metadata": {},
   "outputs": [],
   "source": [
    "# Q2. Which type of Programming does Python support? \n",
    "\n",
    "# Python support object-oriented, structured, and functional programming>"
   ]
  },
  {
   "cell_type": "code",
   "execution_count": null,
   "id": "f8d202ff-cf92-402f-b1fd-a0f80a133ae4",
   "metadata": {},
   "outputs": [],
   "source": []
  },
  {
   "cell_type": "code",
   "execution_count": 3,
   "id": "b908a3fa-0b14-4ad5-a1b1-75b0141869a9",
   "metadata": {},
   "outputs": [],
   "source": [
    "# Q3. Is Python case sensitive when dealing with identifiers?\n",
    "\n",
    "# Yes, Python is case sensitive when dealing with identifiers."
   ]
  },
  {
   "cell_type": "code",
   "execution_count": null,
   "id": "a6cf8a3b-a2a8-40e6-8fad-70d632df3be3",
   "metadata": {},
   "outputs": [],
   "source": []
  },
  {
   "cell_type": "code",
   "execution_count": 4,
   "id": "90b99134-91cb-49b5-aa4c-8a52f9ab849b",
   "metadata": {},
   "outputs": [],
   "source": [
    "# Q4. What is correct extension of the python file?\n",
    "\n",
    "#  .py is the correct extension of python file."
   ]
  },
  {
   "cell_type": "code",
   "execution_count": null,
   "id": "4e63918a-7a6e-4eee-b500-a7169ff70a54",
   "metadata": {},
   "outputs": [],
   "source": []
  },
  {
   "cell_type": "code",
   "execution_count": 5,
   "id": "4b6978fd-7a1c-4812-99f6-8fba51735a2a",
   "metadata": {},
   "outputs": [],
   "source": [
    "# Q5. Is Python code compiled or Interpreted?\n",
    "\n",
    "# Yes, Python code is compiled or Interpreted. "
   ]
  },
  {
   "cell_type": "code",
   "execution_count": null,
   "id": "c0ab8448-ac20-403b-a361-3d4ba0d0171e",
   "metadata": {},
   "outputs": [],
   "source": []
  },
  {
   "cell_type": "code",
   "execution_count": 6,
   "id": "38a109f3-00c1-4ee2-acff-61e69dbd3353",
   "metadata": {},
   "outputs": [],
   "source": [
    "# Q6. Name a few blocks of code used to define in Python language?\n",
    "\n",
    "# module, function body, class definition."
   ]
  },
  {
   "cell_type": "code",
   "execution_count": null,
   "id": "77a0b9a7-0d43-4cf8-a49a-abb7c78d4948",
   "metadata": {},
   "outputs": [],
   "source": []
  },
  {
   "cell_type": "code",
   "execution_count": 7,
   "id": "712b35eb-91d1-4024-a36f-534ab0c53b5a",
   "metadata": {},
   "outputs": [],
   "source": [
    "# Q7. State a character used to give single-line comments in Python?\n",
    "\n",
    "# hash(#) is use to single-line comments in Python."
   ]
  },
  {
   "cell_type": "code",
   "execution_count": null,
   "id": "2a447198-24e2-4f32-9163-30168ed2da07",
   "metadata": {},
   "outputs": [],
   "source": []
  },
  {
   "cell_type": "code",
   "execution_count": 10,
   "id": "30cdb811-b3d7-44a3-9363-febbe044fc33",
   "metadata": {},
   "outputs": [
    {
     "data": {
      "text/plain": [
       "'3.10.8 | packaged by conda-forge | (main, Nov 22 2022, 08:26:04) [GCC 10.4.0]'"
      ]
     },
     "execution_count": 10,
     "metadata": {},
     "output_type": "execute_result"
    }
   ],
   "source": [
    "# Q8. Mention functions which can help us to find the version of python that we are currently working on?\n",
    "\n",
    "# sys.version help us to find the version of python that we are currently working on.\n",
    "import sys\n",
    "sys.version"
   ]
  },
  {
   "cell_type": "code",
   "execution_count": null,
   "id": "7dfa0965-9618-4e53-bbf3-49a1d4fe3e33",
   "metadata": {},
   "outputs": [],
   "source": []
  },
  {
   "cell_type": "code",
   "execution_count": 13,
   "id": "183e3901-2996-4920-8944-bed651367b74",
   "metadata": {},
   "outputs": [],
   "source": [
    "# Q9. Python supports the creation of anonymous function at runtime, using a construct called ________\n",
    "\n",
    "# Python supports the creation of anonymous function at runtime, using a construct called lambda."
   ]
  },
  {
   "cell_type": "code",
   "execution_count": null,
   "id": "b84a13cf-7bf4-42f2-a8f5-ac2bd4a66130",
   "metadata": {},
   "outputs": [],
   "source": []
  },
  {
   "cell_type": "code",
   "execution_count": 14,
   "id": "493e21c2-8200-498f-8d57-2c8947cef0ac",
   "metadata": {},
   "outputs": [],
   "source": [
    "# Q10. What does pip stand for python?\n",
    "\n",
    "# pip stand for pip Install Packages."
   ]
  },
  {
   "cell_type": "code",
   "execution_count": null,
   "id": "979fabe7-6117-44c3-a9b5-99c816697496",
   "metadata": {},
   "outputs": [],
   "source": []
  },
  {
   "cell_type": "code",
   "execution_count": 15,
   "id": "c26e7dad-5c41-497f-8f0b-10f07c7be312",
   "metadata": {},
   "outputs": [],
   "source": [
    "# Q11 Mention a few built-in functions in python?\n",
    "\n",
    "# input(), iter(), list(), max(), print(), range(), tuple(), type(), etc."
   ]
  },
  {
   "cell_type": "code",
   "execution_count": null,
   "id": "6e847a83-c82b-46eb-8502-181df6b7e095",
   "metadata": {},
   "outputs": [],
   "source": []
  },
  {
   "cell_type": "code",
   "execution_count": 16,
   "id": "9cf85dbc-75af-4f5a-b473-6a616dc2e916",
   "metadata": {},
   "outputs": [],
   "source": [
    "# Q12. What is the maximum possible length of an identifier in Python?\n",
    "\n",
    "# Maximum possible length of an identifier in Python is 79 characters."
   ]
  },
  {
   "cell_type": "code",
   "execution_count": null,
   "id": "e15b67fa-a85b-4fca-937c-a27a6dfa8bdf",
   "metadata": {},
   "outputs": [],
   "source": []
  },
  {
   "cell_type": "code",
   "execution_count": 18,
   "id": "b7b9710b-0c62-4a05-8baf-fd9d30813ee1",
   "metadata": {},
   "outputs": [],
   "source": [
    "# Q13. What are the benefits of using Python?\n",
    "\n",
    "# 1. Presence of third-Party modules.\n",
    "# 2. Extensive supports libaries(NumPy for the numerical calculations, Pandas for data analytics, etc.)\n",
    "# 3. Open source and large active community base\n",
    "# 4. Versatile, Easy to read, learn and write.\n",
    "# 5. User-friendly data structures.\n",
    "# 6. High-level language\n",
    "# 7. Dynamically typed language(No need to mention data type based on the value assigned, it takes data type).\n",
    "# 8. Object-Oriented and Procedural Programming language.\n",
    "# 9. Portable and Interactive.\n",
    "# 10. Ideal for prototypes - provide more functionality with less code.\n",
    "# 11. Highly Efficient.\n",
    "# 12. Internet of Things(IoT) Opportunities\n",
    "# 13. Interpreted Language\n",
    "# 14. Portable across Operating System."
   ]
  },
  {
   "cell_type": "code",
   "execution_count": null,
   "id": "d3dcb7b1-67a8-4854-afb8-01a9fe30114d",
   "metadata": {},
   "outputs": [],
   "source": []
  },
  {
   "cell_type": "code",
   "execution_count": 17,
   "id": "f79eab8a-48bc-4c46-84a0-68906f6a24f6",
   "metadata": {},
   "outputs": [],
   "source": [
    "# Q14. How is memory managed in Python?\n",
    "\n",
    "# Memory is managed by the python manager which determines where to put the application data in the memory."
   ]
  },
  {
   "cell_type": "code",
   "execution_count": null,
   "id": "776be4f9-206c-4764-bf87-4fbb28573d0d",
   "metadata": {},
   "outputs": [],
   "source": []
  },
  {
   "cell_type": "code",
   "execution_count": null,
   "id": "25045a5a-637c-4157-ba2d-0f41e411e9a6",
   "metadata": {},
   "outputs": [],
   "source": [
    "# Q15. How to install Python on windows and set path variables?\n",
    "\n",
    "\"\"\"\n",
    "Install python from this link https://www.python.org/downloads/\n",
    "After this, install it on your PC. Look for the location where PYTHON has been installed on your PC using the following\n",
    "command on your command prompt: cmd python.\n",
    "Then go to advanced system settings and add new variable and name it as PYTHON_NAME and paste the copied path.\n",
    "Then look for the path variable, select it's value and select edit\n",
    "Add a semicolon towards the end of the value if it's not present and then type %PYTHON_HOME%\n",
    "\"\"\""
   ]
  },
  {
   "cell_type": "code",
   "execution_count": null,
   "id": "9716421c-6911-4dcf-9afc-6b1f6d42837c",
   "metadata": {},
   "outputs": [],
   "source": []
  },
  {
   "cell_type": "code",
   "execution_count": null,
   "id": "2a20ebd4-def3-4bc7-aeae-ce4dff61dac8",
   "metadata": {},
   "outputs": [],
   "source": [
    "# Q16. Is indentation required in python?\n",
    "\n",
    "# Yes, Indentation required in python."
   ]
  }
 ],
 "metadata": {
  "kernelspec": {
   "display_name": "Python 3 (ipykernel)",
   "language": "python",
   "name": "python3"
  },
  "language_info": {
   "codemirror_mode": {
    "name": "ipython",
    "version": 3
   },
   "file_extension": ".py",
   "mimetype": "text/x-python",
   "name": "python",
   "nbconvert_exporter": "python",
   "pygments_lexer": "ipython3",
   "version": "3.10.8"
  }
 },
 "nbformat": 4,
 "nbformat_minor": 5
}
