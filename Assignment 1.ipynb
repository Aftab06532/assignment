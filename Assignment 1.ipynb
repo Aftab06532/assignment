{
 "cells": [
  {
   "cell_type": "code",
   "execution_count": 1,
   "id": "db03e159-9a90-40a8-b718-a53920a4088a",
   "metadata": {},
   "outputs": [],
   "source": [
    "#Assignment 1"
   ]
  },
  {
   "cell_type": "code",
   "execution_count": 2,
   "id": "26078a65-5c2c-4a23-bac0-0873453560cb",
   "metadata": {},
   "outputs": [
    {
     "name": "stdin",
     "output_type": "stream",
     "text": [
      "Enter a number which you want table 2\n"
     ]
    },
    {
     "name": "stdout",
     "output_type": "stream",
     "text": [
      "2 x 1 = 2\n",
      "2 x 2 = 4\n",
      "2 x 3 = 6\n",
      "2 x 4 = 8\n",
      "2 x 5 = 10\n",
      "2 x 6 = 12\n",
      "2 x 7 = 14\n",
      "2 x 8 = 16\n",
      "2 x 9 = 18\n",
      "2 x 10 = 20\n"
     ]
    }
   ],
   "source": [
    "#Q1. Explain with an example each when to use for loop and a while loop\n",
    "#For Loop : For loop is used to run a block of code for a certain number of times. It is used to iterate over any sequences such as list,touple,string,etc\n",
    "\n",
    "# syntax of for loop :-\n",
    "#     for val in sequence:\n",
    "#          ststement(s)\n",
    "#Here, val accesses each item of sequence on each iteration. Loop continues until we reach the last item in the sequence.\n",
    "\n",
    "# Example of for loop\n",
    "n=int(input(\"Enter a number which you want table\"))\n",
    "for i in range(1,11):\n",
    "    print(n, \"x\", i, \"=\", n*i )\n",
    "    "
   ]
  },
  {
   "cell_type": "code",
   "execution_count": 3,
   "id": "11d85fd5-d5e4-4917-991f-fa17d2a2f690",
   "metadata": {},
   "outputs": [
    {
     "name": "stdin",
     "output_type": "stream",
     "text": [
      "Enter a number which you want table 2\n"
     ]
    },
    {
     "name": "stdout",
     "output_type": "stream",
     "text": [
      "2 x 1 = 2\n",
      "2 x 2 = 4\n",
      "2 x 3 = 6\n",
      "2 x 4 = 8\n",
      "2 x 5 = 10\n",
      "2 x 6 = 12\n",
      "2 x 7 = 14\n",
      "2 x 8 = 16\n",
      "2 x 9 = 18\n",
      "2 x 10 = 20\n"
     ]
    }
   ],
   "source": [
    "#while Loop :- While loop is used to run a block of code until a certain codition is met.\n",
    "\n",
    "#syntax of while loop :-\n",
    "#      while condition:\n",
    "#            body of while loop\n",
    "# 1. Here, A while loop evaluates the condition\n",
    "# 2. If the condition evaluates to True, the code inside the while loop is executed.\n",
    "# 3. condition is evaluated again.\n",
    "# 4. This process continues until the condition is False.\n",
    "# 5. When condition evaluates to False, the loop stops.\n",
    "\n",
    "#Example of while loop :-\n",
    "n=int(input(\"Enter a number which you want table\"))\n",
    "i=1\n",
    "while i<=10 :\n",
    "    print(n, \"x\", i, \"=\", n*i )\n",
    "    i = i+1"
   ]
  },
  {
   "cell_type": "code",
   "execution_count": 4,
   "id": "80e48c8d-a02a-4450-86aa-f94a51211ae5",
   "metadata": {},
   "outputs": [],
   "source": [
    "# Q2. Write a python program to print the sum and product of the first 10 natural numbers using for and while loop."
   ]
  },
  {
   "cell_type": "code",
   "execution_count": 5,
   "id": "8d78712b-da5a-44af-875f-4ac36c45dafe",
   "metadata": {},
   "outputs": [
    {
     "name": "stdout",
     "output_type": "stream",
     "text": [
      "Sum of first 10 natural number is =  55\n"
     ]
    }
   ],
   "source": [
    "#print the sum of first 10 natural number usnig for loop\n",
    "sum=0\n",
    "for i in range(1,11) :\n",
    "    sum=sum+i\n",
    "print(\"Sum of first 10 natural number is = \",sum)"
   ]
  },
  {
   "cell_type": "code",
   "execution_count": 6,
   "id": "5c700dea-a062-4b18-9070-fa9cb4635681",
   "metadata": {},
   "outputs": [
    {
     "name": "stdout",
     "output_type": "stream",
     "text": [
      "Sum of first 10 natural number is =  55\n"
     ]
    }
   ],
   "source": [
    "#print the sum of first 10 natural number usnig while loop\n",
    "sum =0\n",
    "i=1\n",
    "while i<=10 :\n",
    "    sum =sum + i\n",
    "    i=i+1\n",
    "print(\"Sum of first 10 natural number is = \",sum)"
   ]
  },
  {
   "cell_type": "code",
   "execution_count": 8,
   "id": "29955bec-4086-4d2e-a7ca-1382e8b5247c",
   "metadata": {},
   "outputs": [
    {
     "name": "stdout",
     "output_type": "stream",
     "text": [
      "Product of first 10 natural number is =  3628800\n"
     ]
    }
   ],
   "source": [
    "#print the product of first 10 natural number usnig for loop\n",
    "num=1\n",
    "for i in range(1,11) :\n",
    "    num=num*i\n",
    "print(\"Product of first 10 natural number is = \",num)  "
   ]
  },
  {
   "cell_type": "code",
   "execution_count": 9,
   "id": "38111e96-662b-4beb-9c0b-16d9534e7c05",
   "metadata": {},
   "outputs": [
    {
     "name": "stdout",
     "output_type": "stream",
     "text": [
      "Product of first 10 natural number is =  3628800\n"
     ]
    }
   ],
   "source": [
    "#print the product of first 10 natural number usnig while loop\n",
    "num=1\n",
    "i=1\n",
    "while i<=10 :\n",
    "    num=num*i\n",
    "    i=i+1\n",
    "print(\"Product of first 10 natural number is = \",num)   "
   ]
  },
  {
   "cell_type": "code",
   "execution_count": 10,
   "id": "94e626d5-5d62-4b4e-b531-907dcbe01044",
   "metadata": {},
   "outputs": [
    {
     "name": "stdin",
     "output_type": "stream",
     "text": [
      "Enter yur input :  310\n"
     ]
    },
    {
     "name": "stdout",
     "output_type": "stream",
     "text": [
      "Total Bill =  2250\n"
     ]
    }
   ],
   "source": [
    "# Q3. Create a python program to compute the electricity bill for a household.\n",
    "#The per-unit charges in rupees are as follows: For the first 100 units, the user will be charged Rs. 4.5 per\n",
    "#unit, for the next 100 units, the user will be charged Rs. 6 per unit, and for the next 100 units, the user will\n",
    "#be charged Rs. 10 per unit, After 300 units and above the user will be charged Rs. 20 per unit.\n",
    "\n",
    "unit = int(input(\"Enter yur input : \"))\n",
    "if unit <=100 :\n",
    "    bill = unit * 4.5\n",
    "elif unit > 100 and unit <= 200 :\n",
    "    bill = 450 + ((unit-100) * 6)\n",
    "elif unit > 200 and unit <=300:\n",
    "    bill = 450 + 600 + ((unit-200) * 10)\n",
    "elif unit > 300 :\n",
    "    bill = 450 + 600 + 1000 + ((unit-300) * 20)\n",
    "else :\n",
    "    print(\"Please enter positive number\")\n",
    "print(\"Total Bill = \",bill)"
   ]
  },
  {
   "cell_type": "code",
   "execution_count": 11,
   "id": "358d44f5-31c6-4a6e-bce4-35f0888e4d7c",
   "metadata": {},
   "outputs": [
    {
     "name": "stdout",
     "output_type": "stream",
     "text": [
      "List of 1 to 100\n",
      "[1, 2, 3, 4, 5, 6, 7, 8, 9, 10, 11, 12, 13, 14, 15, 16, 17, 18, 19, 20, 21, 22, 23, 24, 25, 26, 27, 28, 29, 30, 31, 32, 33, 34, 35, 36, 37, 38, 39, 40, 41, 42, 43, 44, 45, 46, 47, 48, 49, 50, 51, 52, 53, 54, 55, 56, 57, 58, 59, 60, 61, 62, 63, 64, 65, 66, 67, 68, 69, 70, 71, 72, 73, 74, 75, 76, 77, 78, 79, 80, 81, 82, 83, 84, 85, 86, 87, 88, 89, 90, 91, 92, 93, 94, 95, 96, 97, 98, 99, 100]\n",
      "\n",
      "Cube of list from 1 to 100\n",
      "[1, 8, 27, 64, 125, 216, 343, 512, 729, 1000, 1331, 1728, 2197, 2744, 3375, 4096, 4913, 5832, 6859, 8000, 9261, 10648, 12167, 13824, 15625, 17576, 19683, 21952, 24389, 27000, 29791, 32768, 35937, 39304, 42875, 46656, 50653, 54872, 59319, 64000, 68921, 74088, 79507, 85184, 91125, 97336, 103823, 110592, 117649, 125000, 132651, 140608, 148877, 157464, 166375, 175616, 185193, 195112, 205379, 216000, 226981, 238328, 250047, 262144, 274625, 287496, 300763, 314432, 328509, 343000, 357911, 373248, 389017, 405224, 421875, 438976, 456533, 474552, 493039, 512000, 531441, 551368, 571787, 592704, 614125, 636056, 658503, 681472, 704969, 729000, 753571, 778688, 804357, 830584, 857375, 884736, 912673, 941192, 970299, 1000000]\n",
      "\n",
      "List of number from  1 to 100 which is divisible by 4 or 5\n",
      "[8, 64, 125, 216, 512, 1000, 1728, 2744, 3375, 4096, 5832, 8000, 10648, 13824, 15625, 17576, 21952, 27000, 32768, 39304, 42875, 46656, 54872, 64000, 74088, 85184, 91125, 97336, 110592, 125000, 140608, 157464, 166375, 175616, 195112, 216000, 238328, 262144, 274625, 287496, 314432, 343000, 373248, 405224, 421875, 438976, 474552, 512000, 551368, 592704, 614125, 636056, 681472, 729000, 778688, 830584, 857375, 884736, 941192, 1000000]\n"
     ]
    }
   ],
   "source": [
    "#Q4. Create a list of numbers from 1 to 100. Use for loop and while loop to calculate the cube of each\n",
    "#number and if the cube of that number is divisible by 4 or 5 then append that number in a list and print\n",
    "#that list.\n",
    "l=list(range(1,101))\n",
    "cube=[]\n",
    "l1=[]\n",
    "print(\"List of 1 to 100\")\n",
    "print(l)\n",
    "\n",
    "for i in l:\n",
    "    cube.append(i*i*i)\n",
    "print(\"\\nCube of list from 1 to 100\")\n",
    "print(cube)\n",
    "\n",
    "for i in cube :\n",
    "    if i%4==0 or i%5==0 :\n",
    "     l1.append(i)\n",
    "print(\"\\nList of number from  1 to 100 which is divisible by 4 or 5\")\n",
    "print(l1)"
   ]
  },
  {
   "cell_type": "code",
   "execution_count": 12,
   "id": "e27358fd-eaff-46e2-8591-ea4e0867fe14",
   "metadata": {},
   "outputs": [
    {
     "name": "stdout",
     "output_type": "stream",
     "text": [
      "Total number of vowels are: 12\n"
     ]
    }
   ],
   "source": [
    "#Q5. Write a program to filter count vowels in the below-given string.\n",
    "#string = \"I want to become a data scientist\"\n",
    "\n",
    "string = \"I want to become a data scientist\"\n",
    "vowels=0\n",
    "for i in string :\n",
    "    if(i==\"A\" or i==\"E\" or i==\"I\" or i==\"O\" or i==\"U\" or i==\"a\" or i==\"e\" or i==\"i\" or i==\"o\" or i==\"u\") :\n",
    "        vowels = vowels +1\n",
    "print(\"Total number of vowels are:\",vowels)"
   ]
  },
  {
   "cell_type": "code",
   "execution_count": null,
   "id": "ada017cb-c9b3-42f2-b768-e406b481ef23",
   "metadata": {},
   "outputs": [],
   "source": []
  }
 ],
 "metadata": {
  "kernelspec": {
   "display_name": "Python 3 (ipykernel)",
   "language": "python",
   "name": "python3"
  },
  "language_info": {
   "codemirror_mode": {
    "name": "ipython",
    "version": 3
   },
   "file_extension": ".py",
   "mimetype": "text/x-python",
   "name": "python",
   "nbconvert_exporter": "python",
   "pygments_lexer": "ipython3",
   "version": "3.10.8"
  }
 },
 "nbformat": 4,
 "nbformat_minor": 5
}
