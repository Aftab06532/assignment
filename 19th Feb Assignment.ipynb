{
 "cells": [
  {
   "cell_type": "code",
   "execution_count": null,
   "id": "84c058f8-5072-41b4-bb00-7a5e39d0a521",
   "metadata": {},
   "outputs": [],
   "source": [
    "Q1. What is Flask Framework? What are the advantages of Flask Framework?\n",
    "Flask is a web framework that provides libraries to build lightweight web applications in python.\n",
    "It is developed by Armin Ronacher who leads an international group of python enthusiasts (POCCO).\n",
    "It is based on WSGI toolkit and jinja2 template engine. Flask is considered as a micro framework.\n",
    "______________________________________________________________________________________________________________________________________________________\n",
    "Advantages :-\n",
    "Flask is considered the best framework for light web application serving, it is a lightweight framework \n",
    "and can also be useful to the developer if he or she chooses a web interface to the default system based UI.\n",
    "\n",
    "* Easy to understand development :-\n",
    "The Flask framework is easy to understand, that is why it is best for beginners. Its simplicity gives you\n",
    "the opportunity to understand it better and learn from it. There are interesting features to use in the \n",
    "framework. The simplicity in the flask framework enables the developer to navigate around and create the\n",
    "application easily.\n",
    "\n",
    "* It is very flexible and easy :-\n",
    "There are only a handful of parts of flask that cannot be changed or altered because of its simplicity\n",
    "and minimalism. This means that almost all the parts of flask are open to change, unlike some other web\n",
    "frameworks.\n",
    "\n",
    "* Testing :-\n",
    "Using Flask for web development allows for unit testing through its integrated support, built-in developmen\n",
    "t server, fast debugger, and restful request dispatching. It is lightweight to enable you to transit into a \n",
    "web framework easily with some extension.\n",
    "_____________________________________________________________________________________________________________________________________________________\n",
    "Disadvantages :-\n",
    "As it is easy for an amateur or a beginner to learn and create a web development with flask framework, \n",
    "in the same way, a bad developer will write worse code, or in the case of a young developer in training,\n",
    "it will be easier for him to use low-quality code creating a \"bad web application\".\n",
    "\n",
    "* Scale :-\n",
    "Another issue about flask is that it has a singular source which means that it will handle every request\n",
    "in turns, one at a time. So if you are trying to serve multiple requests, it will take more time. With\n",
    "fewer tools at your disposal, you may need to install more modules. This could be mitigated by using \n",
    "Python specialized hosting.\n",
    "\n",
    "* Modules :-\n",
    "Using more modules is seen as a third party involvement which could be a major breach in security. \n",
    "The process and development is no longer between the web framework and the developer, because of the \n",
    "involvement of other modules. That could increase the security risk if a malicious module is included."
   ]
  },
  {
   "cell_type": "code",
   "execution_count": null,
   "id": "a2a60500-32e1-465f-b7be-15434f9b0065",
   "metadata": {},
   "outputs": [],
   "source": []
  },
  {
   "cell_type": "code",
   "execution_count": null,
   "id": "b185f64d-0709-4cbb-b240-e3a6a8c025fd",
   "metadata": {},
   "outputs": [],
   "source": [
    "Q2. Create a simple Flask application to display ‘Hello World!!’. Attach the screenshot of the output in\n",
    "Jupyter Notebook.\n",
    "\n",
    "Program:-\n",
    "\n",
    "from flask import Flask\n",
    "from flask import request\n",
    "\n",
    "app = Flask(__name__)\n",
    "\n",
    "@app.route(\"/\")\n",
    "def hello_world():\n",
    "    return \"<h1>Hello, World!!</h1>\"\n",
    "\n",
    "if __name__==\"__main__\":\n",
    "    app.run(host=\"0.0.0.0\")\n",
    "\n"
   ]
  },
  {
   "cell_type": "code",
   "execution_count": 9,
   "id": "62996183-695a-41b4-a0d1-be7644c107ce",
   "metadata": {},
   "outputs": [
    {
     "data": {
      "text/html": [
       "<img src=\"output.PNG\" width=\"300\" height=\"300\"/>"
      ],
      "text/plain": [
       "<IPython.core.display.Image object>"
      ]
     },
     "execution_count": 9,
     "metadata": {},
     "output_type": "execute_result"
    }
   ],
   "source": [
    "from IPython.display import Image\n",
    "Image(url=\"output.PNG\", width=300, height=300)"
   ]
  },
  {
   "cell_type": "code",
   "execution_count": null,
   "id": "df8474d3-cae2-4a8f-b525-5748e395888b",
   "metadata": {},
   "outputs": [],
   "source": []
  },
  {
   "cell_type": "code",
   "execution_count": null,
   "id": "e80d8b03-6bff-4795-a42e-952d248afac6",
   "metadata": {},
   "outputs": [],
   "source": [
    "Q3. What is App routing in Flask? Why do we use app routes?\n",
    "\n",
    "Answer :-\n",
    "App Routing means mapping the URLs to a specific function that will handle the logic for that URL.\n",
    "Modern web frameworks use more meaningful URLs to help users remember the URLs and make navigation\n",
    "simpler. \n",
    "\n",
    "We use app routes to help users remember application URLs and to access the desired page directly \n",
    "without navigating from the home page."
   ]
  },
  {
   "cell_type": "code",
   "execution_count": null,
   "id": "a206de22-e685-4416-a5ea-b2cdeb20e3cf",
   "metadata": {},
   "outputs": [],
   "source": []
  },
  {
   "cell_type": "code",
   "execution_count": null,
   "id": "55dc8d8e-71c8-4b64-913c-83bb80bc47c4",
   "metadata": {},
   "outputs": [],
   "source": [
    "Q4. Create a “/welcome” route to display the welcome message “Welcome to ABC Corporation” and a “/”\n",
    "route to show the following details:\n",
    "Company Name: ABC Corporation\n",
    "Location: India\n",
    "Contact Detail: 999-999-9999\n",
    "\n",
    "Program :-\n",
    "\n",
    "from flask import Flask\n",
    "from flask import request\n",
    "\n",
    "app = Flask(__name__)\n",
    "\n",
    "@app.route(\"/welcome\")\n",
    "def welcome():\n",
    "    return \"<h1>Welcome to ABC Corporation</h1>\"\n",
    "\n",
    "@app.route(\"/\")\n",
    "def details() :\n",
    "    return \"<h3>Company Name : ABC Corporation <br> Location : India <br> Contact Detail : 999-999-999</h3>\"\n",
    "\n",
    "if __name__==\"__main__\":\n",
    "    app.run(host=\"0.0.0.0\")"
   ]
  },
  {
   "cell_type": "code",
   "execution_count": 11,
   "id": "957e995e-401e-4701-812e-4c294e974544",
   "metadata": {},
   "outputs": [
    {
     "data": {
      "text/html": [
       "<img src=\"assig4.1.PNG\" width=\"300\" height=\"300\"/>"
      ],
      "text/plain": [
       "<IPython.core.display.Image object>"
      ]
     },
     "execution_count": 11,
     "metadata": {},
     "output_type": "execute_result"
    }
   ],
   "source": [
    "from IPython.display import Image\n",
    "Image(url=\"assig4.1.PNG\", width=300, height=300)"
   ]
  },
  {
   "cell_type": "code",
   "execution_count": 12,
   "id": "2d4534b0-32b1-43d8-8102-bc8a4b3ef4c3",
   "metadata": {},
   "outputs": [
    {
     "data": {
      "text/html": [
       "<img src=\"Assign4.2.PNG\" width=\"300\" height=\"300\"/>"
      ],
      "text/plain": [
       "<IPython.core.display.Image object>"
      ]
     },
     "execution_count": 12,
     "metadata": {},
     "output_type": "execute_result"
    }
   ],
   "source": [
    "from IPython.display import Image\n",
    "Image(url=\"Assign4.2.PNG\", width=300, height=300)"
   ]
  },
  {
   "cell_type": "code",
   "execution_count": null,
   "id": "1939d070-9dc5-4929-be2e-a26869787ee2",
   "metadata": {},
   "outputs": [],
   "source": []
  },
  {
   "cell_type": "code",
   "execution_count": null,
   "id": "edc11c21-9f86-43a4-9748-64c77e568592",
   "metadata": {},
   "outputs": [],
   "source": [
    "Q5. What function is used in Flask for URL Building? Write a Python code to demonstrate the working of the\n",
    "url_for() function.\n",
    "\n",
    "Answer :-\n",
    "The url_for() function is used to build a URL to the specific function dynamically. \n",
    "The first argument is the name of the specified function, and then we can pass any number \n",
    "of keyword argument corresponding to the variable part of the URL.\n",
    "\n",
    "This function is useful in the sense that we can avoid hard-coding the URLs into the templates\n",
    "by dynamically building them using this function.\n",
    "\n",
    "Program :-\n",
    "\n",
    "from flask import Flask\n",
    "from flask import request\n",
    "\n",
    "app = Flask(__name__)\n",
    "\n",
    "@app.route('/admin')  \n",
    "def admin():  \n",
    "    return 'admin'  \n",
    "  \n",
    "@app.route('/librarion')  \n",
    "def librarion():  \n",
    "    return 'librarion'  \n",
    "  \n",
    "@app.route('/student')  \n",
    "def student():  \n",
    "    return 'student'  \n",
    "  \n",
    "@app.route('/user/<name>')  \n",
    "def user(name):  \n",
    "    if name == 'admin':  \n",
    "        return redirect(url_for('admin'))  \n",
    "    if name == 'librarion':  \n",
    "        return redirect(url_for('librarion'))  \n",
    "    if name == 'student':  \n",
    "        return redirect(url_for('student'))  \n",
    "\n",
    "if __name__==\"__main__\":\n",
    "    app.run(host=\"0.0.0.0\")\n",
    "\n",
    "    \n",
    "The above script simulates the library management system which can be used by the three types\n",
    "of users, i.e., admin, librarion, and student. There is a specific function named user() which \n",
    "recognizes the user the redirect the user to the exact function which contains the implementation\n",
    "for this particular function.\n"
   ]
  },
  {
   "cell_type": "code",
   "execution_count": 13,
   "id": "29872d53-9810-4606-817e-4acd1f999320",
   "metadata": {},
   "outputs": [
    {
     "data": {
      "text/html": [
       "<img src=\"assign5.PNG\" width=\"300\" height=\"300\"/>"
      ],
      "text/plain": [
       "<IPython.core.display.Image object>"
      ]
     },
     "execution_count": 13,
     "metadata": {},
     "output_type": "execute_result"
    }
   ],
   "source": [
    "from IPython.display import Image\n",
    "Image(url=\"assign5.PNG\", width=300, height=300)"
   ]
  },
  {
   "cell_type": "code",
   "execution_count": null,
   "id": "ec42fe3e-d46b-4f96-9edb-465b9b80d20a",
   "metadata": {},
   "outputs": [],
   "source": [
    "For example, the URL https://black-author-xvbbt.pwskills.app:5000/admin is redirected to the URL\n",
    "https://black-author-xvbbt.pwskills.app:5000/admin, \n",
    "the URL https://black-author-xvbbt.pwskills.app:5000/librarion, is redirected \n",
    "to the URL http://localhost:5000/librarion, the URL http://localhost:5000/user/student\n",
    "is redirected to the URL http://localhost/student."
   ]
  }
 ],
 "metadata": {
  "kernelspec": {
   "display_name": "Python 3 (ipykernel)",
   "language": "python",
   "name": "python3"
  },
  "language_info": {
   "codemirror_mode": {
    "name": "ipython",
    "version": 3
   },
   "file_extension": ".py",
   "mimetype": "text/x-python",
   "name": "python",
   "nbconvert_exporter": "python",
   "pygments_lexer": "ipython3",
   "version": "3.10.8"
  }
 },
 "nbformat": 4,
 "nbformat_minor": 5
}
